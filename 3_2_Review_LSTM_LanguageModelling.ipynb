{
  "nbformat": 4,
  "nbformat_minor": 0,
  "metadata": {
    "colab": {
      "name": "3.2-Review-LSTM-LanguageModelling.ipynb",
      "version": "0.3.2",
      "provenance": [],
      "include_colab_link": true
    },
    "kernelspec": {
      "name": "python3",
      "display_name": "Python 3"
    },
    "accelerator": "GPU"
  },
  "cells": [
    {
      "cell_type": "markdown",
      "metadata": {
        "id": "view-in-github",
        "colab_type": "text"
      },
      "source": [
        "<a href=\"https://colab.research.google.com/github/JATC1024/Deep-Learning-with-TensorFlow/blob/master/3_2_Review_LSTM_LanguageModelling.ipynb\" target=\"_parent\"><img src=\"https://colab.research.google.com/assets/colab-badge.svg\" alt=\"Open In Colab\"/></a>"
      ]
    },
    {
      "metadata": {
        "id": "c5PTSPhs20iO",
        "colab_type": "text"
      },
      "cell_type": "markdown",
      "source": [
        "0-<a href=\"https://www.bigdatauniversity.com\"><img src=\"https://ibm.box.com/shared/static/qo20b88v1hbjztubt06609ovs85q8fau.png\" width=\"400px\" align=\"center\"></a>\n",
        "\n",
        "<h1 align=\"center\"><font size=\"5\">RECURRENT NETWORKS and LSTM IN DEEP LEARNING</font></h1>"
      ]
    },
    {
      "metadata": {
        "id": "-0nSLqPG20iS",
        "colab_type": "text"
      },
      "cell_type": "markdown",
      "source": [
        "<h2>Applying Recurrent Neural Networks/LSTM for Language Modeling</h2>\n",
        "Hello and welcome to this part. In this notebook, we will go over the topic of Language Modelling, and create a Recurrent Neural Network model based on the Long Short-Term Memory unit to train and benchmark on the Penn Treebank dataset. By the end of this notebook, you should be able to understand how TensorFlow builds and executes a RNN model for Language Modelling."
      ]
    },
    {
      "metadata": {
        "id": "-EeAxe7w20iU",
        "colab_type": "text"
      },
      "cell_type": "markdown",
      "source": [
        "<h2>The Objective</h2>\n",
        "By now, you should have an understanding of how Recurrent Networks work -- a specialized model to process sequential data by keeping track of the \"state\" or context. In this notebook, we go over a TensorFlow code snippet for creating a model focused on <b>Language Modelling</b> -- a very relevant task that is the cornerstone of many different linguistic problems such as <b>Speech Recognition, Machine Translation and Image Captioning</b>. For this, we will be using the Penn Treebank dataset, which is an often-used dataset for benchmarking Language Modelling models."
      ]
    },
    {
      "metadata": {
        "id": "uk7DKfon20iV",
        "colab_type": "text"
      },
      "cell_type": "markdown",
      "source": [
        "\n",
        "<h2>Table of Contents</h2>\n",
        "<ol>\n",
        "    <li><a href=\"#language_modelling\">What exactly is Language Modelling?</a></li>\n",
        "    <li><a href=\"#treebank_dataset\">The Penn Treebank dataset</a></li>\n",
        "    <li><a href=\"#word_embedding\">Work Embedding</a></li>\n",
        "    <li><a href=\"#building_lstm_model\">Building the LSTM model for Language Modeling</a></li>\n",
        "    <li><a href=\"#ltsm\">LTSM</a></li>\n",
        "</ol>\n",
        "<p></p>\n",
        "</div>\n",
        "<br>"
      ]
    },
    {
      "metadata": {
        "button": false,
        "deletable": true,
        "new_sheet": false,
        "run_control": {
          "read_only": false
        },
        "id": "kCfjBksV20iX",
        "colab_type": "text"
      },
      "cell_type": "markdown",
      "source": [
        "--------"
      ]
    },
    {
      "metadata": {
        "button": false,
        "deletable": true,
        "new_sheet": false,
        "run_control": {
          "read_only": false
        },
        "id": "ICzoD2Ab20ia",
        "colab_type": "text"
      },
      "cell_type": "markdown",
      "source": [
        "<a id=\"language_modelling\"></a>\n",
        "<h2>What exactly is Language Modelling?</h2>\n",
        "Language Modelling, to put it simply, <b>is the task of assigning probabilities to sequences of words</b>. This means that, given a context of one or a sequence of words in the language the model was trained on, the model should provide the next most probable words or sequence of words that follows from the given sequence of words the sentence. Language Modelling is one of the most important tasks in Natural Language Processing.\n",
        "\n",
        "<img src=\"https://ibm.box.com/shared/static/1d1i5gub6wljby2vani2vzxp0xsph702.png\" width=\"1080\">\n",
        "<center><i>Example of a sentence being predicted</i></center>\n",
        "<br><br>\n",
        "In this example, one can see the predictions for the next word of a sentence, given the context \"This is an\". As you can see, this boils down to a sequential data analysis task -- you are given a word or a sequence of words (the input data), and, given the context (the state), you need to find out what is the next word (the prediction). This kind of analysis is very important for language-related tasks such as <b>Speech Recognition, Machine Translation, Image Captioning, Text Correction</b> and many other very relevant problems. \n",
        "\n",
        "<img src=\"https://ibm.box.com/shared/static/az39idf9ipfdpc5ugifpgxnydelhyf3i.png\" width=\"1080\">\n",
        "<center><i>The above example is a schema of an RNN in execution</i></center>\n",
        "<br><br>\n",
        "As the above image shows, Recurrent Network models fit this problem like a glove. Alongside LSTM and its capacity to maintain the model's state for over one thousand time steps, we have all the tools we need to undertake this problem. The goal for this notebook is to create a model that can reach <b>low levels of perplexity</b> on our desired dataset.\n",
        "\n",
        "For Language Modelling problems, <b>perplexity</b> is the way to gauge efficiency. Perplexity is simply a measure of how well a probabilistic model is able to predict its sample. A higher-level way to explain this would be saying that <b>low perplexity means a higher degree of trust in the predictions the model makes</b>. Therefore, the lower perplexity is, the better."
      ]
    },
    {
      "metadata": {
        "id": "m80l_9gR20ic",
        "colab_type": "text"
      },
      "cell_type": "markdown",
      "source": [
        "<a id=\"treebank_dataset\"></a>\n",
        "<h2>The Penn Treebank dataset</h2>\n",
        "Historically, datasets big enough for Natural Language Processing are hard to come by. This is in part due to the necessity of the sentences to be broken down and tagged with a certain degree of correctness -- or else the models trained on it won't be able to be correct at all. This means that we need a <b>large amount of data, annotated by or at least corrected by humans</b>. This is, of course, not an easy task at all.\n",
        "\n",
        "The Penn Treebank, or PTB for short, is a dataset maintained by the University of Pennsylvania. It is <i>huge</i> -- there are over <b>four million and eight hundred thousand</b> annotated words in it, all corrected by humans. It is composed of many different sources, from abstracts of Department of Energy papers to texts from the Library of America. Since it is verifiably correct and of such a huge size, the Penn Treebank is commonly used as a benchmark dataset for Language Modelling.\n",
        "\n",
        "The dataset is divided in different kinds of annotations, such as Piece-of-Speech, Syntactic and Semantic skeletons. For this example, we will simply use a sample of clean, non-annotated words (with the exception of one tag --<code>&lt;unk&gt;</code>\n",
        ", which is used for rare words such as uncommon proper nouns) for our model. This means that we just want to predict what the next words would be, not what they mean in context or their classes on a given sentence.\n",
        "\n",
        "<center>Example of text from the dataset we are going to use, <b>ptb.train</b></center>\n",
        "<br><br>\n",
        "\n",
        "<div class=\"alert alert-block alert-info\" style=\"margin-top: 20px\">\n",
        "    <center>the percentage of lung cancer deaths among the workers at the west <code>&lt;unk&gt;</code> mass. paper factory appears to be the highest for any asbestos workers studied in western industrialized countries he said \n",
        " the plant which is owned by <code>&lt;unk&gt;</code> & <code>&lt;unk&gt;</code> co. was under contract with <code>&lt;unk&gt;</code> to make the cigarette filters \n",
        " the finding probably will support those who argue that the U.S. should regulate the class of asbestos including <code>&lt;unk&gt;</code> more <code>&lt;unk&gt;</code> than the common kind of asbestos <code>&lt;unk&gt;</code> found in most schools and other buildings dr. <code>&lt;unk&gt;</code> said</center>\n",
        "</div>"
      ]
    },
    {
      "metadata": {
        "button": false,
        "deletable": true,
        "new_sheet": false,
        "run_control": {
          "read_only": false
        },
        "id": "TH1n8mED20id",
        "colab_type": "text"
      },
      "cell_type": "markdown",
      "source": [
        "<a id=\"word_embedding\"></a>\n",
        "<h2>Word Embeddings</h2><br/>\n",
        "\n",
        "For better processing, in this example, we will make use of <a href=\"https://www.tensorflow.org/tutorials/word2vec/\"><b>word embeddings</b></a>, which is <b>a way of representing sentence structures or words as n-dimensional vectors (where n is a reasonably high number, such as 200 or 500) of real numbers</b>. Basically, we will assign each word a randomly-initialized vector, and input those into the network to be processed. After a number of iterations, these vectors are expected to assume values that help the network to correctly predict what it needs to -- in our case, the probable next word in the sentence. This is shown to be a very effective task in Natural Language Processing, and is a commonplace practice.\n",
        "<br><br>\n",
        "<font size=\"4\"><strong>\n",
        "$$Vec(\"Example\") = [0.02, 0.00, 0.00, 0.92, 0.30, \\ldots]$$\n",
        "</strong></font>\n",
        "<br>\n",
        "Word Embedding tends to group up similarly used words <i>reasonably</i> close together in the vectorial space. For example, if we use T-SNE (a dimensional reduction visualization algorithm) to flatten the dimensions of our vectors into a 2-dimensional space and plot these words in a 2-dimensional space, we might see something like this:\n",
        "\n",
        "<img src=\"https://ibm.box.com/shared/static/bqhc5dg879gcoabzhxra1w8rkg3od1cu.png\" width=\"800\">\n",
        "<center><i>T-SNE Mockup with clusters marked for easier visualization</i></center>\n",
        "<br><br>\n",
        "As you can see, words that are frequently used together, in place of each other, or in the same places as them tend to be grouped together -- being closer together the higher they are correlated. For example, \"None\" is pretty semantically close to \"Zero\", while a phrase that uses \"Italy\", you could probably also fit \"Germany\" in it, with little damage to the sentence structure. The vectorial \"closeness\" for similar words like this is a great indicator of a well-built model.\n",
        "\n",
        "<hr>\n",
        " "
      ]
    },
    {
      "metadata": {
        "button": false,
        "deletable": true,
        "new_sheet": false,
        "run_control": {
          "read_only": false
        },
        "id": "bR8eWbDC20if",
        "colab_type": "text"
      },
      "cell_type": "markdown",
      "source": [
        "We need to import the necessary modules for our code. We need <b><code>numpy</code></b> and <b><code>tensorflow</code></b>, obviously. Additionally, we can import directly the <b><code>tensorflow.models.rnn</code></b> model, which includes the function for building RNNs, and <b><code>tensorflow.models.rnn.ptb.reader</code></b> which is the helper module for getting the input data from the dataset we just downloaded.\n",
        "\n",
        "If you want to learn more take a look at https://github.com/tensorflow/models/blob/master/tutorials/rnn/ptb/reader.py"
      ]
    },
    {
      "metadata": {
        "button": false,
        "deletable": true,
        "new_sheet": false,
        "run_control": {
          "read_only": false
        },
        "id": "VwBGR7aQ20ij",
        "colab_type": "code",
        "colab": {}
      },
      "cell_type": "code",
      "source": [
        "   import time\n",
        "import numpy as np\n",
        "import tensorflow as tf"
      ],
      "execution_count": 0,
      "outputs": []
    },
    {
      "metadata": {
        "button": false,
        "deletable": true,
        "new_sheet": false,
        "run_control": {
          "read_only": false
        },
        "id": "N3CiDmEv20ir",
        "colab_type": "code",
        "colab": {
          "base_uri": "https://localhost:8080/",
          "height": 102
        },
        "outputId": "f9a450ac-0371-4b60-f4d3-d4f80aac948e"
      },
      "cell_type": "code",
      "source": [
        "    !mkdir data\n",
        "!wget -q -O data/ptb.zip https://ibm.box.com/shared/static/z2yvmhbskc45xd2a9a4kkn6hg4g4kj5r.zip\n",
        "!unzip -o data/ptb.zip -d data\n",
        "!cp data/ptb/reader.py .\n",
        "\n",
        "import reader"
      ],
      "execution_count": 2,
      "outputs": [
        {
          "output_type": "stream",
          "text": [
            "mkdir: cannot create directory ‘data’: File exists\n",
            "Archive:  data/ptb.zip\n",
            "  inflating: data/ptb/reader.py      \n",
            "  inflating: data/__MACOSX/ptb/._reader.py  \n",
            "  inflating: data/__MACOSX/._ptb     \n"
          ],
          "name": "stdout"
        }
      ]
    },
    {
      "metadata": {
        "button": false,
        "deletable": true,
        "new_sheet": false,
        "run_control": {
          "read_only": false
        },
        "id": "GqhFDlLd20i1",
        "colab_type": "text"
      },
      "cell_type": "markdown",
      "source": [
        "      <a id=\"building_lstm_model\"></a>\n",
        "<h2>Building the LSTM model for Language Modeling</h2>\n",
        "Now that we know exactly what we are doing, we can start building our model using TensorFlow. The very first thing we need to do is download and extract the <code>simple-examples</code> dataset, which can be done by executing the code cell below."
      ]
    },
    {
      "metadata": {
        "button": false,
        "deletable": true,
        "new_sheet": false,
        "run_control": {
          "read_only": false
        },
        "id": "HghNG_1d20i2",
        "colab_type": "code",
        "colab": {
          "base_uri": "https://localhost:8080/",
          "height": 204
        },
        "outputId": "29e458e3-5af2-4754-ac9e-50c6ea8904c6"
      },
      "cell_type": "code",
      "source": [
        "!wget http://www.fit.vutbr.cz/~imikolov/rnnlm/simple-examples.tgz \n",
        "!tar xzf simple-examples.tgz -C data/"
      ],
      "execution_count": 3,
      "outputs": [
        {
          "output_type": "stream",
          "text": [
            "--2019-02-15 07:48:54--  http://www.fit.vutbr.cz/~imikolov/rnnlm/simple-examples.tgz\n",
            "Resolving www.fit.vutbr.cz (www.fit.vutbr.cz)... 147.229.9.23, 2001:67c:1220:809::93e5:917\n",
            "Connecting to www.fit.vutbr.cz (www.fit.vutbr.cz)|147.229.9.23|:80... connected.\n",
            "HTTP request sent, awaiting response... 200 OK\n",
            "Length: 34869662 (33M) [application/x-gtar]\n",
            "Saving to: ‘simple-examples.tgz.2’\n",
            "\n",
            "simple-examples.tgz 100%[===================>]  33.25M  1.67MB/s    in 22s     \n",
            "\n",
            "2019-02-15 07:49:17 (1.49 MB/s) - ‘simple-examples.tgz.2’ saved [34869662/34869662]\n",
            "\n"
          ],
          "name": "stdout"
        }
      ]
    },
    {
      "metadata": {
        "button": false,
        "deletable": true,
        "new_sheet": false,
        "run_control": {
          "read_only": false
        },
        "id": "qnzejFcK20i8",
        "colab_type": "text"
      },
      "cell_type": "markdown",
      "source": [
        "Additionally, for the sake of making it easy to play around with the model's hyperparameters, we can declare them beforehand. Feel free to change these -- you will see a difference in performance each time you change those!  \n"
      ]
    },
    {
      "metadata": {
        "button": false,
        "deletable": true,
        "new_sheet": false,
        "run_control": {
          "read_only": false
        },
        "id": "KhJyS1u720i9",
        "colab_type": "code",
        "colab": {}
      },
      "cell_type": "code",
      "source": [
        "#Initial weight scale\n",
        "init_scale = 0.1\n",
        "#Initial learning rate\n",
        "learning_rate = 1.0\n",
        "#Maximum permissible norm for the gradient (For gradient clipping -- another measure against Exploding Gradients)\n",
        "max_grad_norm = 5\n",
        "#The number of layers in our model\n",
        "num_layers = 2\n",
        "#The total number of recurrence steps, also known as the number of layers when our RNN is \"unfolded\"\n",
        "num_steps = 20\n",
        "#The number of processing units (neurons) in the hidden layers\n",
        "hidden_size_l1 = 256\n",
        "hidden_size_l2 = 128\n",
        "#The maximum number of epochs trained with the initial learning rate\n",
        "max_epoch_decay_lr = 4\n",
        "#The total number of epochs in training\n",
        "max_epoch = 15\n",
        "#The probability for keeping data in the Dropout Layer (This is an optimization, but is outside our scope for this notebook!)\n",
        "#At 1, we ignore the Dropout Layer wrapping.\n",
        "keep_prob = 1\n",
        "#The decay for the learning rate\n",
        "decay = 0.5\n",
        "#The size for each batch of data\n",
        "batch_size = 60\n",
        "#The size of our vocabulary\n",
        "vocab_size = 10000\n",
        "embeding_vector_size = 200\n",
        "#Training flag to separate training from testing\n",
        "is_training = 1\n",
        "#Data directory for our dataset\n",
        "data_dir = \"data/simple-examples/data/\""
      ],
      "execution_count": 0,
      "outputs": []
    },
    {
      "metadata": {
        "button": false,
        "deletable": true,
        "new_sheet": false,
        "run_control": {
          "read_only": false
        },
        "id": "4N6jd-zI20jK",
        "colab_type": "text"
      },
      "cell_type": "markdown",
      "source": [
        "Some clarifications for LSTM architecture based on the arguments:\n",
        "\n",
        "Network structure:\n",
        "<ul>\n",
        "    <li>In this network, the number of LSTM cells are 2. To give the model more expressive power, we can add multiple layers of LSTMs to process the data. The output of the first layer will become the input of the second and so on.\n",
        "    </li>\n",
        "    <li>The recurrence steps is 20, that is, when our RNN is \"Unfolded\", the recurrence step is 20.</li>   \n",
        "    <li>the structure is like:\n",
        "        <ul>\n",
        "            <li>200 input units -> [200x200] Weight -> 200 Hidden units (first layer) -> [200x200] Weight matrix  -> 200 Hidden units (second layer) ->  [200] weight Matrix -> 200 unit output</li>\n",
        "        </ul>\n",
        "    </li>\n",
        "</ul>\n",
        "<br>\n",
        "\n",
        "Input layer: \n",
        "<ul>\n",
        "    <li>The network has 200 input units.</li>\n",
        "    <li>Suppose each word is represented by an embedding vector of dimensionality e=200. The input layer of each cell will have 200 linear units. These e=200 linear units are connected to each of the h=200 LSTM units in the hidden layer (assuming there is only one hidden layer, though our case has 2 layers).\n",
        "    </li>\n",
        "    <li>The input shape is [batch_size, num_steps], that is [30x20]. It will turn into [30x20x200] after embedding, and then 20x[30x200]\n",
        "    </li>\n",
        "</ul>\n",
        "<br>\n",
        "\n",
        "Hidden layer:\n",
        "<ul>\n",
        "    <li>Each LSTM has 200 hidden units which is equivalent to the dimensionality of the embedding words and output.</li>\n",
        "</ul>\n",
        "<br>"
      ]
    },
    {
      "metadata": {
        "button": false,
        "deletable": true,
        "new_sheet": false,
        "run_control": {
          "read_only": false
        },
        "id": "Ienxho0420jM",
        "colab_type": "text"
      },
      "cell_type": "markdown",
      "source": [
        "There is a lot to be done and a ton of information to process at the same time, so go over this code slowly. It may seem complex at first, but if you try to apply what you just learned about language modelling to the code you see, you should be able to understand it.\n",
        "\n",
        "This code is adapted from the <a href=\"https://github.com/tensorflow/models\">PTBModel</a> example bundled with the TensorFlow source code.\n",
        "\n",
        "\n",
        "<h4>Train data</h4>\n",
        "The story starts from data:\n",
        "<ul>\n",
        "    <li>Train data is a list of words, of size 929589, represented by numbers, e.g. [9971, 9972, 9974, 9975,...]</li>\n",
        "    <li>We read data as mini-batch of size b=30. Assume the size of each sentence is 20 words (num_steps = 20). Then it will take $$floor(\\frac{N}{b \\times h})+1=1548$$ iterations for the learner to go through all sentences once. Where N is the size of the list of words, b is batch size, andh is size of each sentence. So, the number of iterators is 1548\n",
        "    </li>\n",
        "    <li>Each batch data is read from train dataset of size 600, and shape of [30x20]</li>\n",
        "</ul>"
      ]
    },
    {
      "metadata": {
        "button": false,
        "deletable": true,
        "new_sheet": false,
        "run_control": {
          "read_only": false
        },
        "id": "yD5kbeni20jR",
        "colab_type": "text"
      },
      "cell_type": "markdown",
      "source": [
        "First we start an interactive session:"
      ]
    },
    {
      "metadata": {
        "button": false,
        "deletable": true,
        "new_sheet": false,
        "run_control": {
          "read_only": false
        },
        "id": "cpliiivr20jY",
        "colab_type": "code",
        "colab": {}
      },
      "cell_type": "code",
      "source": [
        "session = tf.InteractiveSession()"
      ],
      "execution_count": 0,
      "outputs": []
    },
    {
      "metadata": {
        "button": false,
        "deletable": true,
        "new_sheet": false,
        "run_control": {
          "read_only": false
        },
        "id": "5dqeCyfw20jg",
        "colab_type": "code",
        "colab": {}
      },
      "cell_type": "code",
      "source": [
        "# Reads the data and separates it into training data, validation data and testing data\n",
        "raw_data = reader.ptb_raw_data(data_dir)\n",
        "train_data, valid_data, test_data, vocab, word_to_id = raw_data"
      ],
      "execution_count": 0,
      "outputs": []
    },
    {
      "metadata": {
        "id": "qIXHnl0E20jm",
        "colab_type": "code",
        "colab": {
          "base_uri": "https://localhost:8080/",
          "height": 34
        },
        "outputId": "b6b1d3d1-8d77-43eb-9526-2ae2f7f97205"
      },
      "cell_type": "code",
      "source": [
        "len(train_data)"
      ],
      "execution_count": 7,
      "outputs": [
        {
          "output_type": "execute_result",
          "data": {
            "text/plain": [
              "929589"
            ]
          },
          "metadata": {
            "tags": []
          },
          "execution_count": 7
        }
      ]
    },
    {
      "metadata": {
        "id": "ZtPFCBKB20jr",
        "colab_type": "code",
        "colab": {
          "base_uri": "https://localhost:8080/",
          "height": 54
        },
        "outputId": "2ee49b8e-9617-4eb2-e11b-2c64023dcf1e"
      },
      "cell_type": "code",
      "source": [
        "def id_to_word(id_list):\n",
        "    line = []\n",
        "    for w in id_list:\n",
        "        for word, wid in word_to_id.items():\n",
        "            if wid == w:\n",
        "                line.append(word)\n",
        "    return line            \n",
        "                \n",
        "\n",
        "print(id_to_word(train_data[0:100]))"
      ],
      "execution_count": 8,
      "outputs": [
        {
          "output_type": "stream",
          "text": [
            "['aer', 'banknote', 'berlitz', 'calloway', 'centrust', 'cluett', 'fromstein', 'gitano', 'guterman', 'hydro-quebec', 'ipo', 'kia', 'memotec', 'mlx', 'nahb', 'punts', 'rake', 'regatta', 'rubens', 'sim', 'snack-food', 'ssangyong', 'swapo', 'wachter', '<eos>', 'pierre', '<unk>', 'N', 'years', 'old', 'will', 'join', 'the', 'board', 'as', 'a', 'nonexecutive', 'director', 'nov.', 'N', '<eos>', 'mr.', '<unk>', 'is', 'chairman', 'of', '<unk>', 'n.v.', 'the', 'dutch', 'publishing', 'group', '<eos>', 'rudolph', '<unk>', 'N', 'years', 'old', 'and', 'former', 'chairman', 'of', 'consolidated', 'gold', 'fields', 'plc', 'was', 'named', 'a', 'nonexecutive', 'director', 'of', 'this', 'british', 'industrial', 'conglomerate', '<eos>', 'a', 'form', 'of', 'asbestos', 'once', 'used', 'to', 'make', 'kent', 'cigarette', 'filters', 'has', 'caused', 'a', 'high', 'percentage', 'of', 'cancer', 'deaths', 'among', 'a', 'group', 'of']\n"
          ],
          "name": "stdout"
        }
      ]
    },
    {
      "metadata": {
        "button": false,
        "deletable": true,
        "new_sheet": false,
        "run_control": {
          "read_only": false
        },
        "id": "Kpl3vKX820jv",
        "colab_type": "text"
      },
      "cell_type": "markdown",
      "source": [
        "Lets just read one mini-batch now and feed our network:"
      ]
    },
    {
      "metadata": {
        "button": false,
        "deletable": true,
        "new_sheet": false,
        "run_control": {
          "read_only": false
        },
        "id": "5-cNDObs20jw",
        "colab_type": "code",
        "colab": {}
      },
      "cell_type": "code",
      "source": [
        "              itera = reader.ptb_iterator(train_data, batch_size, num_steps)\n",
        "first_touple = itera.__next__()\n",
        "x = first_touple[0]\n",
        "y = first_touple[1]"
      ],
      "execution_count": 0,
      "outputs": []
    },
    {
      "metadata": {
        "button": false,
        "deletable": true,
        "new_sheet": false,
        "run_control": {
          "read_only": false
        },
        "id": "TlNCLeMb20j2",
        "colab_type": "code",
        "colab": {
          "base_uri": "https://localhost:8080/",
          "height": 34
        },
        "outputId": "ad83788d-7b35-4497-fc01-d30aa62551cb"
      },
      "cell_type": "code",
      "source": [
        " x.shape"
      ],
      "execution_count": 10,
      "outputs": [
        {
          "output_type": "execute_result",
          "data": {
            "text/plain": [
              "(60, 20)"
            ]
          },
          "metadata": {
            "tags": []
          },
          "execution_count": 10
        }
      ]
    },
    {
      "metadata": {
        "button": false,
        "deletable": true,
        "new_sheet": false,
        "run_control": {
          "read_only": false
        },
        "id": "wboLIf6t20j7",
        "colab_type": "text"
      },
      "cell_type": "markdown",
      "source": [
        "Lets look at 3 sentences of our input x:"
      ]
    },
    {
      "metadata": {
        "button": false,
        "deletable": true,
        "new_sheet": false,
        "run_control": {
          "read_only": false
        },
        "id": "fZlFOHiy20j8",
        "colab_type": "code",
        "colab": {
          "base_uri": "https://localhost:8080/",
          "height": 136
        },
        "outputId": "29321ad4-d62a-496b-c76b-08351929f2b8"
      },
      "cell_type": "code",
      "source": [
        "x[0:3]"
      ],
      "execution_count": 11,
      "outputs": [
        {
          "output_type": "execute_result",
          "data": {
            "text/plain": [
              "array([[9970, 9971, 9972, 9974, 9975, 9976, 9980, 9981, 9982, 9983, 9984,\n",
              "        9986, 9987, 9988, 9989, 9991, 9992, 9993, 9994, 9995],\n",
              "       [ 901,   33, 3361,    8, 1279,  437,  597,    6,  261, 4276, 1089,\n",
              "           8, 2836,    2,  269,    4, 5526,  241,   13, 2420],\n",
              "       [2654,    6,  334, 2886,    4,    1,  233,  711,  834,   11,  130,\n",
              "         123,    7,  514,    2,   63,   10,  514,    8,  605]],\n",
              "      dtype=int32)"
            ]
          },
          "metadata": {
            "tags": []
          },
          "execution_count": 11
        }
      ]
    },
    {
      "metadata": {
        "button": false,
        "deletable": true,
        "new_sheet": false,
        "run_control": {
          "read_only": false
        },
        "id": "3QkuCz9w20kB",
        "colab_type": "text"
      },
      "cell_type": "markdown",
      "source": [
        "we define 2 place holders to feed them with mini-batchs, that is x and y:"
      ]
    },
    {
      "metadata": {
        "button": false,
        "deletable": true,
        "new_sheet": false,
        "run_control": {
          "read_only": false
        },
        "id": "vo6WB_ME20kD",
        "colab_type": "code",
        "colab": {}
      },
      "cell_type": "code",
      "source": [
        "_input_data = tf.placeholder(tf.int32, [batch_size, num_steps]) #[30#20]\n",
        "_targets = tf.placeholder(tf.int32, [batch_size, num_steps]) #[30#20]"
      ],
      "execution_count": 0,
      "outputs": []
    },
    {
      "metadata": {
        "button": false,
        "deletable": true,
        "new_sheet": false,
        "run_control": {
          "read_only": false
        },
        "id": "Ddp2MJvl20kK",
        "colab_type": "text"
      },
      "cell_type": "markdown",
      "source": [
        "Lets define a dictionary, and use it later to feed the placeholders with our first mini-batch:"
      ]
    },
    {
      "metadata": {
        "button": false,
        "deletable": true,
        "new_sheet": false,
        "run_control": {
          "read_only": false
        },
        "id": "zaBjBbzI20kO",
        "colab_type": "code",
        "colab": {}
      },
      "cell_type": "code",
      "source": [
        "feed_dict = {_input_data:x, _targets:y}"
      ],
      "execution_count": 0,
      "outputs": []
    },
    {
      "metadata": {
        "button": false,
        "deletable": true,
        "new_sheet": false,
        "run_control": {
          "read_only": false
        },
        "id": "CIUGFOg320kZ",
        "colab_type": "text"
      },
      "cell_type": "markdown",
      "source": [
        "For example, we can use it to feed <code>\\_input\\_data</code>:"
      ]
    },
    {
      "metadata": {
        "button": false,
        "deletable": true,
        "new_sheet": false,
        "run_control": {
          "read_only": false
        },
        "id": "Xk8rxHBh20ka",
        "colab_type": "code",
        "colab": {
          "base_uri": "https://localhost:8080/",
          "height": 136
        },
        "outputId": "199f898a-7626-4c0c-f298-22d2531fa03f"
      },
      "cell_type": "code",
      "source": [
        "session.run(_input_data, feed_dict)"
      ],
      "execution_count": 14,
      "outputs": [
        {
          "output_type": "execute_result",
          "data": {
            "text/plain": [
              "array([[9970, 9971, 9972, ..., 9993, 9994, 9995],\n",
              "       [ 901,   33, 3361, ...,  241,   13, 2420],\n",
              "       [2654,    6,  334, ...,  514,    8,  605],\n",
              "       ...,\n",
              "       [7831,   36, 1678, ...,    4, 4558,  157],\n",
              "       [  59, 2070, 2433, ...,  400,    1, 1173],\n",
              "       [2097,    3,    2, ..., 2043,   23,    1]], dtype=int32)"
            ]
          },
          "metadata": {
            "tags": []
          },
          "execution_count": 14
        }
      ]
    },
    {
      "metadata": {
        "button": false,
        "deletable": true,
        "new_sheet": false,
        "run_control": {
          "read_only": false
        },
        "id": "pXkcG_P-20kq",
        "colab_type": "text"
      },
      "cell_type": "markdown",
      "source": [
        "In this step, we create the stacked LSTM, which is a 2 layer LSTM network:"
      ]
    },
    {
      "metadata": {
        "button": false,
        "deletable": true,
        "new_sheet": false,
        "run_control": {
          "read_only": false
        },
        "id": "gIFaKmxb20ku",
        "colab_type": "code",
        "colab": {
          "base_uri": "https://localhost:8080/",
          "height": 258
        },
        "outputId": "d01726f7-b1a1-41e9-a7c5-34ffa7a65b4f"
      },
      "cell_type": "code",
      "source": [
        "lstm_cell_l1 = tf.contrib.rnn.BasicLSTMCell(hidden_size_l1, forget_bias=0.0)\n",
        "lstm_cell_l2 = tf.contrib.rnn.BasicLSTMCell(hidden_size_l2, forget_bias=0.0)\n",
        "stacked_lstm = tf.contrib.rnn.MultiRNNCell([lstm_cell_l1, lstm_cell_l2])"
      ],
      "execution_count": 15,
      "outputs": [
        {
          "output_type": "stream",
          "text": [
            "\n",
            "WARNING: The TensorFlow contrib module will not be included in TensorFlow 2.0.\n",
            "For more information, please see:\n",
            "  * https://github.com/tensorflow/community/blob/master/rfcs/20180907-contrib-sunset.md\n",
            "  * https://github.com/tensorflow/addons\n",
            "If you depend on functionality not listed there, please file an issue.\n",
            "\n",
            "WARNING:tensorflow:From <ipython-input-15-ddf565d0e753>:1: BasicLSTMCell.__init__ (from tensorflow.python.ops.rnn_cell_impl) is deprecated and will be removed in a future version.\n",
            "Instructions for updating:\n",
            "This class is equivalent as tf.keras.layers.LSTMCell, and will be replaced by that in Tensorflow 2.0.\n",
            "WARNING:tensorflow:From <ipython-input-15-ddf565d0e753>:3: MultiRNNCell.__init__ (from tensorflow.python.ops.rnn_cell_impl) is deprecated and will be removed in a future version.\n",
            "Instructions for updating:\n",
            "This class is equivalent as tf.keras.layers.StackedRNNCells, and will be replaced by that in Tensorflow 2.0.\n"
          ],
          "name": "stdout"
        }
      ]
    },
    {
      "metadata": {
        "button": false,
        "deletable": true,
        "new_sheet": false,
        "run_control": {
          "read_only": false
        },
        "id": "g_eIhSRK20k6",
        "colab_type": "text"
      },
      "cell_type": "markdown",
      "source": [
        "Also, we initialize the states of the nework:\n",
        "\n",
        "<h4>_initial_state</h4>\n",
        "\n",
        "For each LCTM, there are 2 state matrices, c\\_state and m\\_state.  c_state and m_state represent \"Memory State\" and \"Cell State\". Each hidden layer, has a vector of size 30, which keeps the states. so, for 200 hidden units in each LSTM, we have a matrix of size [30x200]"
      ]
    },
    {
      "metadata": {
        "button": false,
        "deletable": true,
        "new_sheet": false,
        "run_control": {
          "read_only": false
        },
        "id": "et6j7DIe20k9",
        "colab_type": "code",
        "colab": {
          "base_uri": "https://localhost:8080/",
          "height": 71
        },
        "outputId": "9d5034fe-7415-495a-cefe-97396b83b17a"
      },
      "cell_type": "code",
      "source": [
        "_initial_state = stacked_lstm.zero_state(batch_size, tf.float32)\n",
        "_initial_state"
      ],
      "execution_count": 16,
      "outputs": [
        {
          "output_type": "execute_result",
          "data": {
            "text/plain": [
              "(LSTMStateTuple(c=<tf.Tensor 'MultiRNNCellZeroState/BasicLSTMCellZeroState/zeros:0' shape=(60, 256) dtype=float32>, h=<tf.Tensor 'MultiRNNCellZeroState/BasicLSTMCellZeroState/zeros_1:0' shape=(60, 256) dtype=float32>),\n",
              " LSTMStateTuple(c=<tf.Tensor 'MultiRNNCellZeroState/BasicLSTMCellZeroState_1/zeros:0' shape=(60, 128) dtype=float32>, h=<tf.Tensor 'MultiRNNCellZeroState/BasicLSTMCellZeroState_1/zeros_1:0' shape=(60, 128) dtype=float32>))"
            ]
          },
          "metadata": {
            "tags": []
          },
          "execution_count": 16
        }
      ]
    },
    {
      "metadata": {
        "button": false,
        "deletable": true,
        "new_sheet": false,
        "run_control": {
          "read_only": false
        },
        "id": "divPUW2720lH",
        "colab_type": "text"
      },
      "cell_type": "markdown",
      "source": [
        "Lets look at the states, though they are all zero for now:"
      ]
    },
    {
      "metadata": {
        "button": false,
        "deletable": true,
        "new_sheet": false,
        "run_control": {
          "read_only": false
        },
        "id": "pEkKYyq620lL",
        "colab_type": "code",
        "colab": {
          "base_uri": "https://localhost:8080/",
          "height": 459
        },
        "outputId": "c17a825c-dd09-4a9d-a7df-6863d398ca00"
      },
      "cell_type": "code",
      "source": [
        "session.run(_initial_state, feed_dict)"
      ],
      "execution_count": 17,
      "outputs": [
        {
          "output_type": "execute_result",
          "data": {
            "text/plain": [
              "(LSTMStateTuple(c=array([[0., 0., 0., ..., 0., 0., 0.],\n",
              "       [0., 0., 0., ..., 0., 0., 0.],\n",
              "       [0., 0., 0., ..., 0., 0., 0.],\n",
              "       ...,\n",
              "       [0., 0., 0., ..., 0., 0., 0.],\n",
              "       [0., 0., 0., ..., 0., 0., 0.],\n",
              "       [0., 0., 0., ..., 0., 0., 0.]], dtype=float32), h=array([[0., 0., 0., ..., 0., 0., 0.],\n",
              "       [0., 0., 0., ..., 0., 0., 0.],\n",
              "       [0., 0., 0., ..., 0., 0., 0.],\n",
              "       ...,\n",
              "       [0., 0., 0., ..., 0., 0., 0.],\n",
              "       [0., 0., 0., ..., 0., 0., 0.],\n",
              "       [0., 0., 0., ..., 0., 0., 0.]], dtype=float32)),\n",
              " LSTMStateTuple(c=array([[0., 0., 0., ..., 0., 0., 0.],\n",
              "       [0., 0., 0., ..., 0., 0., 0.],\n",
              "       [0., 0., 0., ..., 0., 0., 0.],\n",
              "       ...,\n",
              "       [0., 0., 0., ..., 0., 0., 0.],\n",
              "       [0., 0., 0., ..., 0., 0., 0.],\n",
              "       [0., 0., 0., ..., 0., 0., 0.]], dtype=float32), h=array([[0., 0., 0., ..., 0., 0., 0.],\n",
              "       [0., 0., 0., ..., 0., 0., 0.],\n",
              "       [0., 0., 0., ..., 0., 0., 0.],\n",
              "       ...,\n",
              "       [0., 0., 0., ..., 0., 0., 0.],\n",
              "       [0., 0., 0., ..., 0., 0., 0.],\n",
              "       [0., 0., 0., ..., 0., 0., 0.]], dtype=float32)))"
            ]
          },
          "metadata": {
            "tags": []
          },
          "execution_count": 17
        }
      ]
    },
    {
      "metadata": {
        "button": false,
        "deletable": true,
        "new_sheet": false,
        "run_control": {
          "read_only": false
        },
        "id": "xv6sl-3820lU",
        "colab_type": "text"
      },
      "cell_type": "markdown",
      "source": [
        "<h3>Embeddings</h3>\n",
        "We have to convert the words in our dataset to vectors of numbers. The traditional approach is to use one-hot encoding method that is usually used for converting categorical values to numerical values. However, One-hot encoded vectors are high-dimensional, sparse and in a big dataset, computationally inefficient. So, we use word2vec approach. It is, in fact, a layer in our LSTM network, where the word IDs will be represented as a dense representation before feeding to the LSTM. \n",
        "\n",
        "The embedded vectors also get updated during the training process of the deep neural network.\n",
        "We create the embeddings for our input data. <b>embedding_vocab</b> is matrix of [10000x200] for all 10000 unique words."
      ]
    },
    {
      "metadata": {
        "button": false,
        "deletable": true,
        "new_sheet": false,
        "run_control": {
          "read_only": false
        },
        "id": "G_e1Qqrz20lX",
        "colab_type": "code",
        "colab": {
          "base_uri": "https://localhost:8080/",
          "height": 88
        },
        "outputId": "0e57ed11-cfd9-4b5d-cf9d-3cd82e710591"
      },
      "cell_type": "code",
      "source": [
        "embedding_vocab = tf.get_variable(\"embedding_vocab\", [vocab_size, embeding_vector_size])  #[10000x200]"
      ],
      "execution_count": 18,
      "outputs": [
        {
          "output_type": "stream",
          "text": [
            "WARNING:tensorflow:From /usr/local/lib/python3.6/dist-packages/tensorflow/python/framework/op_def_library.py:263: colocate_with (from tensorflow.python.framework.ops) is deprecated and will be removed in a future version.\n",
            "Instructions for updating:\n",
            "Colocations handled automatically by placer.\n"
          ],
          "name": "stdout"
        }
      ]
    },
    {
      "metadata": {
        "id": "dmJ4nIlP20lh",
        "colab_type": "text"
      },
      "cell_type": "markdown",
      "source": [
        "Lets initialize the <code>embedding_words</code> variable with random values."
      ]
    },
    {
      "metadata": {
        "button": false,
        "deletable": true,
        "new_sheet": false,
        "run_control": {
          "read_only": false
        },
        "id": "uIoQ-f2020lk",
        "colab_type": "code",
        "colab": {
          "base_uri": "https://localhost:8080/",
          "height": 238
        },
        "outputId": "0dee77e4-7575-4f04-cdb9-682f6d915c69"
      },
      "cell_type": "code",
      "source": [
        "session.run(tf.global_variables_initializer())\n",
        "session.run(embedding_vocab)"
      ],
      "execution_count": 19,
      "outputs": [
        {
          "output_type": "execute_result",
          "data": {
            "text/plain": [
              "array([[ 0.02404934, -0.01331984, -0.0229071 , ..., -0.01409323,\n",
              "        -0.00969591,  0.02126518],\n",
              "       [ 0.02403141, -0.0194194 , -0.0148167 , ..., -0.01998944,\n",
              "        -0.00527847, -0.01329559],\n",
              "       [-0.00480474,  0.02204525, -0.00514939, ...,  0.0057552 ,\n",
              "         0.01157909,  0.00139857],\n",
              "       ...,\n",
              "       [-0.0055728 , -0.01066232, -0.00096953, ..., -0.01014594,\n",
              "         0.01267727, -0.0082632 ],\n",
              "       [ 0.01186387,  0.00662721,  0.01583986, ...,  0.0070998 ,\n",
              "         0.01828341, -0.00196055],\n",
              "       [ 0.00267662, -0.01565368, -0.00293946, ..., -0.00591271,\n",
              "        -0.00299459,  0.01802715]], dtype=float32)"
            ]
          },
          "metadata": {
            "tags": []
          },
          "execution_count": 19
        }
      ]
    },
    {
      "metadata": {
        "button": false,
        "deletable": true,
        "new_sheet": false,
        "run_control": {
          "read_only": false
        },
        "id": "Mspec7eP20ls",
        "colab_type": "text"
      },
      "cell_type": "markdown",
      "source": [
        "<b>embedding_lookup()</b> finds the embedded values for our batch of 30x20 words. It  goes to each row of <code>input_data</code>, and for each word in the row/sentence, finds the correspond vector in <code>embedding_dic<code>. <br>\n",
        "It creates a [30x20x200] tensor, so, the first element of <b>inputs</b> (the first sentence), is a matrix of 20x200, which each row of it, is vector representing a word in the sentence."
      ]
    },
    {
      "metadata": {
        "button": false,
        "deletable": true,
        "new_sheet": false,
        "run_control": {
          "read_only": false
        },
        "id": "FUS3yNVh20lu",
        "colab_type": "code",
        "colab": {
          "base_uri": "https://localhost:8080/",
          "height": 34
        },
        "outputId": "22e5e987-0ec1-41df-fa67-d4d87620245a"
      },
      "cell_type": "code",
      "source": [
        "# Define where to get the data for our embeddings from\n",
        "inputs = tf.nn.embedding_lookup(embedding_vocab, _input_data)  #shape=(30, 20, 200) \n",
        "inputs"
      ],
      "execution_count": 20,
      "outputs": [
        {
          "output_type": "execute_result",
          "data": {
            "text/plain": [
              "<tf.Tensor 'embedding_lookup/Identity:0' shape=(60, 20, 200) dtype=float32>"
            ]
          },
          "metadata": {
            "tags": []
          },
          "execution_count": 20
        }
      ]
    },
    {
      "metadata": {
        "button": false,
        "deletable": true,
        "new_sheet": false,
        "run_control": {
          "read_only": false
        },
        "id": "nD5NDL3620l2",
        "colab_type": "code",
        "colab": {
          "base_uri": "https://localhost:8080/",
          "height": 238
        },
        "outputId": "e5ba0ba2-5973-4534-fc25-fc29aa6f6d89"
      },
      "cell_type": "code",
      "source": [
        "session.run(inputs[0], feed_dict)"
      ],
      "execution_count": 21,
      "outputs": [
        {
          "output_type": "execute_result",
          "data": {
            "text/plain": [
              "array([[ 0.00743793,  0.00450896,  0.00686958, ...,  0.01601422,\n",
              "         0.01217834, -0.00184193],\n",
              "       [-0.01079694, -0.01459088,  0.02358166, ..., -0.02422899,\n",
              "         0.0106392 , -0.00313949],\n",
              "       [ 0.01133134, -0.00333591,  0.01344375, ...,  0.01026468,\n",
              "         0.00214144, -0.00126169],\n",
              "       ...,\n",
              "       [ 0.02313767,  0.02322583, -0.00959524, ..., -0.01690499,\n",
              "         0.00828222, -0.00163111],\n",
              "       [ 0.02216604, -0.00442497,  0.02019362, ...,  0.00897039,\n",
              "         0.00969411, -0.01449382],\n",
              "       [-0.02016986, -0.01755995, -0.00182584, ...,  0.0211111 ,\n",
              "         0.01916877,  0.00956417]], dtype=float32)"
            ]
          },
          "metadata": {
            "tags": []
          },
          "execution_count": 21
        }
      ]
    },
    {
      "metadata": {
        "button": false,
        "deletable": true,
        "new_sheet": false,
        "run_control": {
          "read_only": false
        },
        "id": "8uZejj9N20l8",
        "colab_type": "text"
      },
      "cell_type": "markdown",
      "source": [
        "<h3>Constructing Recurrent Neural Networks</h3>\n",
        "<b>tf.nn.dynamic_rnn()</b> creates a recurrent neural network using <b>stacked_lstm</b>. \n",
        "\n",
        "The input should be a Tensor of shape: [batch_size, max_time, embedding_vector_size], in our case it would be (30, 20, 200)\n",
        "\n",
        "This method, returns a pair (outputs, new_state) where:\n",
        "<ul>\n",
        "    <li><b>outputs</b>: is a length T list of outputs (one for each input), or a nested tuple of such elements.</li>\n",
        "    <li><b>new_state</b>: is the final state.</li>\n",
        "</ul>"
      ]
    },
    {
      "metadata": {
        "button": false,
        "deletable": true,
        "new_sheet": false,
        "run_control": {
          "read_only": false
        },
        "scrolled": true,
        "id": "IO_oKknL20mA",
        "colab_type": "code",
        "colab": {
          "base_uri": "https://localhost:8080/",
          "height": 68
        },
        "outputId": "3c637c20-aec3-4088-eb8b-54aab6f70eaa"
      },
      "cell_type": "code",
      "source": [
        "outputs, new_state =  tf.nn.dynamic_rnn(stacked_lstm, inputs, initial_state=_initial_state)"
      ],
      "execution_count": 22,
      "outputs": [
        {
          "output_type": "stream",
          "text": [
            "WARNING:tensorflow:From <ipython-input-22-f5b68f99f9ac>:1: dynamic_rnn (from tensorflow.python.ops.rnn) is deprecated and will be removed in a future version.\n",
            "Instructions for updating:\n",
            "Please use `keras.layers.RNN(cell)`, which is equivalent to this API\n"
          ],
          "name": "stdout"
        }
      ]
    },
    {
      "metadata": {
        "button": false,
        "deletable": true,
        "new_sheet": false,
        "run_control": {
          "read_only": false
        },
        "id": "sjsIb-8g20mI",
        "colab_type": "text"
      },
      "cell_type": "markdown",
      "source": [
        "so, lets look at the outputs. The output of the stackedLSTM comes from 200 hidden_layer, and in each time step(=20), one of them get activated. we use the linear activation to map the 200 hidden layer to a [?x10 matrix]"
      ]
    },
    {
      "metadata": {
        "button": false,
        "deletable": true,
        "new_sheet": false,
        "run_control": {
          "read_only": false
        },
        "id": "qtnZndj120mK",
        "colab_type": "code",
        "colab": {
          "base_uri": "https://localhost:8080/",
          "height": 34
        },
        "outputId": "a5b225dd-f2eb-4dd1-b6c6-3caa63a02f4f"
      },
      "cell_type": "code",
      "source": [
        "outputs"
      ],
      "execution_count": 23,
      "outputs": [
        {
          "output_type": "execute_result",
          "data": {
            "text/plain": [
              "<tf.Tensor 'rnn/transpose_1:0' shape=(60, 20, 128) dtype=float32>"
            ]
          },
          "metadata": {
            "tags": []
          },
          "execution_count": 23
        }
      ]
    },
    {
      "metadata": {
        "button": false,
        "deletable": true,
        "new_sheet": false,
        "run_control": {
          "read_only": false
        },
        "id": "VYV2nZAU20mQ",
        "colab_type": "code",
        "colab": {
          "base_uri": "https://localhost:8080/",
          "height": 238
        },
        "outputId": "10310e05-8ff2-4510-c348-74b7507ce12b"
      },
      "cell_type": "code",
      "source": [
        "session.run(tf.global_variables_initializer())\n",
        "session.run(outputs[0], feed_dict)"
      ],
      "execution_count": 24,
      "outputs": [
        {
          "output_type": "execute_result",
          "data": {
            "text/plain": [
              "array([[ 3.1497685e-04,  3.1197010e-04,  1.8747126e-04, ...,\n",
              "        -1.8146538e-05,  3.8468855e-04, -2.6511695e-04],\n",
              "       [ 7.1116979e-04, -5.4145105e-05, -3.3805755e-04, ...,\n",
              "        -2.5370248e-04,  2.8612424e-04, -6.1252818e-04],\n",
              "       [ 3.8246004e-04,  1.0532814e-04, -2.1175267e-04, ...,\n",
              "         3.4444503e-04, -1.0214942e-04, -1.4823098e-03],\n",
              "       ...,\n",
              "       [-1.5248198e-03,  3.9400565e-04,  8.9954486e-04, ...,\n",
              "        -4.8286465e-04,  2.4518173e-04,  7.4085599e-04],\n",
              "       [-7.7684602e-04, -2.6599757e-04,  1.5890145e-03, ...,\n",
              "        -5.8106234e-04,  1.4990116e-04,  8.5305242e-04],\n",
              "       [-3.4693701e-05, -1.6280892e-04,  1.2816926e-03, ...,\n",
              "        -1.0132998e-03, -5.7858990e-05,  1.6929731e-03]], dtype=float32)"
            ]
          },
          "metadata": {
            "tags": []
          },
          "execution_count": 24
        }
      ]
    },
    {
      "metadata": {
        "button": false,
        "deletable": true,
        "new_sheet": false,
        "run_control": {
          "read_only": false
        },
        "id": "HW3W-xlN20mY",
        "colab_type": "text"
      },
      "cell_type": "markdown",
      "source": [
        "we need to flatten the outputs to be able to connect it softmax layer. Lets reshape the output tensor from  [30 x 20 x 200] to [600 x 200].\n",
        "\n",
        "<b>Notice:</b> Imagine our output is 3-d tensor as following (of course each <code>sen_x_word_y</code> is a an embedded vector by itself): \n",
        "<ul>\n",
        "    <li>sentence 1: [[sen1word1], [sen1word2], [sen1word3], ..., [sen1word20]]</li> \n",
        "    <li>sentence 2: [[sen2word1], [sen2word2], [sen2word3], ..., [sen2word20]]</li>   \n",
        "    <li>sentence 3: [[sen3word1], [sen3word2], [sen3word3], ..., [sen3word20]]</li>  \n",
        "    <li>...  </li>\n",
        "    <li>sentence 30: [[sen30word1], [sen30word2], [sen30word3], ..., [sen30word20]]</li>   \n",
        "</ul>\n",
        "Now, the flatten would convert this 3-dim tensor to:\n",
        "\n",
        "[ [sen1word1], [sen1word2], [sen1word3], ..., [sen1word20],[sen2word1], [sen2word2], [sen2word3], ..., [sen2word20], ..., [sen30word20] ]\n"
      ]
    },
    {
      "metadata": {
        "button": false,
        "deletable": true,
        "new_sheet": false,
        "run_control": {
          "read_only": false
        },
        "id": "uayTwEq220ma",
        "colab_type": "code",
        "colab": {
          "base_uri": "https://localhost:8080/",
          "height": 34
        },
        "outputId": "53692afe-b0e9-4166-9e7e-5ceb07166e87"
      },
      "cell_type": "code",
      "source": [
        "output = tf.reshape(outputs, [-1, hidden_size_l2])\n",
        "output"
      ],
      "execution_count": 25,
      "outputs": [
        {
          "output_type": "execute_result",
          "data": {
            "text/plain": [
              "<tf.Tensor 'Reshape:0' shape=(1200, 128) dtype=float32>"
            ]
          },
          "metadata": {
            "tags": []
          },
          "execution_count": 25
        }
      ]
    },
    {
      "metadata": {
        "button": false,
        "deletable": true,
        "new_sheet": false,
        "run_control": {
          "read_only": false
        },
        "id": "mkXnwSXD20ms",
        "colab_type": "text"
      },
      "cell_type": "markdown",
      "source": [
        "<h3>logistic unit</h3>\n",
        "Now, we create a logistic unit to return the probability of the output word in our vocabulary with 1000 words. \n",
        "\n",
        "$$Softmax = [600 \\times 200] * [200 \\times 1000] + [1 \\times 1000] \\Longrightarrow [600 \\times 1000]$$"
      ]
    },
    {
      "metadata": {
        "button": false,
        "deletable": true,
        "new_sheet": false,
        "run_control": {
          "read_only": false
        },
        "id": "LFNIcoYf20mv",
        "colab_type": "code",
        "colab": {}
      },
      "cell_type": "code",
      "source": [
        "softmax_w = tf.get_variable(\"softmax_w\", [hidden_size_l2, vocab_size]) #[200x1000]\n",
        "softmax_b = tf.get_variable(\"softmax_b\", [vocab_size]) #[1x1000]\n",
        "logits = tf.matmul(output, softmax_w) + softmax_b\n",
        "prob = tf.nn.softmax(logits)"
      ],
      "execution_count": 0,
      "outputs": []
    },
    {
      "metadata": {
        "id": "mG9Dc1Gu20m8",
        "colab_type": "text"
      },
      "cell_type": "markdown",
      "source": [
        "Lets look at the probability of observing words for t=0 to t=20:"
      ]
    },
    {
      "metadata": {
        "button": false,
        "deletable": true,
        "new_sheet": false,
        "run_control": {
          "read_only": false
        },
        "id": "ld-Eb-fm20nD",
        "colab_type": "code",
        "colab": {
          "base_uri": "https://localhost:8080/",
          "height": 255
        },
        "outputId": "b833ebb6-eaae-426b-b539-9902b0369a41"
      },
      "cell_type": "code",
      "source": [
        "session.run(tf.global_variables_initializer())\n",
        "output_words_prob = session.run(prob, feed_dict)\n",
        "print(\"shape of the output: \", output_words_prob.shape)\n",
        "print(\"The probability of observing words in t=0 to t=20\", output_words_prob[0:20])"
      ],
      "execution_count": 27,
      "outputs": [
        {
          "output_type": "stream",
          "text": [
            "shape of the output:  (1200, 10000)\n",
            "The probability of observing words in t=0 to t=20 [[1.00910482e-04 9.89146283e-05 1.01039695e-04 ... 1.00372548e-04\n",
            "  1.00058453e-04 1.01035032e-04]\n",
            " [1.00902900e-04 9.89116161e-05 1.01042082e-04 ... 1.00370220e-04\n",
            "  1.00056488e-04 1.01035308e-04]\n",
            " [1.00902093e-04 9.89146138e-05 1.01047008e-04 ... 1.00368503e-04\n",
            "  1.00051664e-04 1.01033082e-04]\n",
            " ...\n",
            " [1.00911289e-04 9.89278124e-05 1.01040772e-04 ... 1.00363126e-04\n",
            "  1.00050638e-04 1.01034588e-04]\n",
            " [1.00915822e-04 9.89349064e-05 1.01043719e-04 ... 1.00367884e-04\n",
            "  1.00049852e-04 1.01036632e-04]\n",
            " [1.00919424e-04 9.89386899e-05 1.01047968e-04 ... 1.00373465e-04\n",
            "  1.00053701e-04 1.01034988e-04]]\n"
          ],
          "name": "stdout"
        }
      ]
    },
    {
      "metadata": {
        "button": false,
        "deletable": true,
        "new_sheet": false,
        "run_control": {
          "read_only": false
        },
        "id": "wvr_WuVz20nH",
        "colab_type": "text"
      },
      "cell_type": "markdown",
      "source": [
        "<h3>Prediction</h3>\n",
        "What is the word correspond to the probability output? Lets use the maximum probability:"
      ]
    },
    {
      "metadata": {
        "button": false,
        "deletable": true,
        "new_sheet": false,
        "run_control": {
          "read_only": false
        },
        "id": "gVgKyj6h20nI",
        "colab_type": "code",
        "colab": {
          "base_uri": "https://localhost:8080/",
          "height": 51
        },
        "outputId": "8b468baf-0960-4911-a040-be7bbfade2fd"
      },
      "cell_type": "code",
      "source": [
        "np.argmax(output_words_prob[0:20], axis=1)"
      ],
      "execution_count": 28,
      "outputs": [
        {
          "output_type": "execute_result",
          "data": {
            "text/plain": [
              "array([8024, 3441, 1179, 1179, 1179, 3619, 3619, 8024, 3441, 3441, 2276,\n",
              "       2276, 9197, 3619, 3619, 3619, 8321, 8321, 8321, 8321])"
            ]
          },
          "metadata": {
            "tags": []
          },
          "execution_count": 28
        }
      ]
    },
    {
      "metadata": {
        "button": false,
        "deletable": true,
        "new_sheet": false,
        "run_control": {
          "read_only": false
        },
        "id": "2z8f390z20nM",
        "colab_type": "text"
      },
      "cell_type": "markdown",
      "source": [
        "So, what is the ground truth for the first word of first sentence? "
      ]
    },
    {
      "metadata": {
        "button": false,
        "deletable": true,
        "new_sheet": false,
        "run_control": {
          "read_only": false
        },
        "id": "enbDk2gL20nP",
        "colab_type": "code",
        "colab": {
          "base_uri": "https://localhost:8080/",
          "height": 51
        },
        "outputId": "74ca176c-8f9b-4774-bd69-91abf35bc09f"
      },
      "cell_type": "code",
      "source": [
        "y[0]"
      ],
      "execution_count": 29,
      "outputs": [
        {
          "output_type": "execute_result",
          "data": {
            "text/plain": [
              "array([9971, 9972, 9974, 9975, 9976, 9980, 9981, 9982, 9983, 9984, 9986,\n",
              "       9987, 9988, 9989, 9991, 9992, 9993, 9994, 9995, 9996], dtype=int32)"
            ]
          },
          "metadata": {
            "tags": []
          },
          "execution_count": 29
        }
      ]
    },
    {
      "metadata": {
        "button": false,
        "deletable": true,
        "new_sheet": false,
        "run_control": {
          "read_only": false
        },
        "id": "G0pZj9nj20nV",
        "colab_type": "text"
      },
      "cell_type": "markdown",
      "source": [
        "Also, you can get it from target tensor, if you want to find the embedding vector:"
      ]
    },
    {
      "metadata": {
        "button": false,
        "deletable": true,
        "new_sheet": false,
        "run_control": {
          "read_only": false
        },
        "id": "n_WP0iBt20nX",
        "colab_type": "code",
        "colab": {
          "base_uri": "https://localhost:8080/",
          "height": 51
        },
        "outputId": "86289c81-3481-438b-ab94-4256c522cdb2"
      },
      "cell_type": "code",
      "source": [
        "targ = session.run(_targets, feed_dict) \n",
        "targ[0]"
      ],
      "execution_count": 30,
      "outputs": [
        {
          "output_type": "execute_result",
          "data": {
            "text/plain": [
              "array([9971, 9972, 9974, 9975, 9976, 9980, 9981, 9982, 9983, 9984, 9986,\n",
              "       9987, 9988, 9989, 9991, 9992, 9993, 9994, 9995, 9996], dtype=int32)"
            ]
          },
          "metadata": {
            "tags": []
          },
          "execution_count": 30
        }
      ]
    },
    {
      "metadata": {
        "id": "DHDFYe2620nf",
        "colab_type": "text"
      },
      "cell_type": "markdown",
      "source": [
        "How similar the predicted words are to the target words?"
      ]
    },
    {
      "metadata": {
        "button": false,
        "deletable": true,
        "new_sheet": false,
        "run_control": {
          "read_only": false
        },
        "id": "LmEck0iU20nf",
        "colab_type": "text"
      },
      "cell_type": "markdown",
      "source": [
        "<h4>Objective function</h4>\n",
        "\n",
        "Now we have to define our objective function, to calculate the similarity of predicted values to ground truth, and then, penalize the model with the error. Our objective is to minimize loss function, that is, to minimize the average negative log probability of the target words:\n",
        "\n",
        "$$\\text{loss} = -\\frac{1}{N}\\sum_{i=1}^{N} \\ln p_{\\text{target}_i}$$\n",
        "\n",
        "This function is already implemented and available in TensorFlow through <b>sequence_loss_by_example</b>. It calculates the weighted cross-entropy loss for <b>logits</b> and the <b>target</b> sequence.  \n",
        "\n",
        "The arguments of this function are:  \n",
        "<ul>\n",
        "    <li>logits: List of 2D Tensors of shape [batch_size x num_decoder_symbols].</li>  \n",
        "    <li>targets: List of 1D batch-sized int32 Tensors of the same length as logits.</li>   \n",
        "    <li>weights: List of 1D batch-sized float-Tensors of the same length as logits.</li> \n",
        "</ul>"
      ]
    },
    {
      "metadata": {
        "button": false,
        "deletable": true,
        "new_sheet": false,
        "run_control": {
          "read_only": false
        },
        "id": "dfZTGUqj20ni",
        "colab_type": "code",
        "colab": {}
      },
      "cell_type": "code",
      "source": [
        "loss = tf.contrib.legacy_seq2seq.sequence_loss_by_example([logits], [tf.reshape(_targets, [-1])],[tf.ones([batch_size * num_steps])])"
      ],
      "execution_count": 0,
      "outputs": []
    },
    {
      "metadata": {
        "button": false,
        "deletable": true,
        "new_sheet": false,
        "run_control": {
          "read_only": false
        },
        "id": "9lPdqCQ620nl",
        "colab_type": "text"
      },
      "cell_type": "markdown",
      "source": [
        "loss is a 1D batch-sized float Tensor [600x1]: The log-perplexity for each sequence. Lets look at the first 10 values of loss:"
      ]
    },
    {
      "metadata": {
        "button": false,
        "deletable": true,
        "new_sheet": false,
        "run_control": {
          "read_only": false
        },
        "id": "zvpz2C6W20nm",
        "colab_type": "code",
        "colab": {
          "base_uri": "https://localhost:8080/",
          "height": 51
        },
        "outputId": "fa516528-c438-4aff-ec01-5a85a7eb09c8"
      },
      "cell_type": "code",
      "source": [
        "session.run(loss, feed_dict)[:10]"
      ],
      "execution_count": 32,
      "outputs": [
        {
          "output_type": "execute_result",
          "data": {
            "text/plain": [
              "array([9.194345 , 9.19861  , 9.209998 , 9.206041 , 9.203122 , 9.205618 ,\n",
              "       9.1988535, 9.216621 , 9.212802 , 9.223387 ], dtype=float32)"
            ]
          },
          "metadata": {
            "tags": []
          },
          "execution_count": 32
        }
      ]
    },
    {
      "metadata": {
        "id": "1FTELWYX20nq",
        "colab_type": "text"
      },
      "cell_type": "markdown",
      "source": [
        "Now, we define loss as average of the losses:"
      ]
    },
    {
      "metadata": {
        "button": false,
        "deletable": true,
        "new_sheet": false,
        "run_control": {
          "read_only": false
        },
        "id": "ZmmgeXw520nr",
        "colab_type": "code",
        "colab": {
          "base_uri": "https://localhost:8080/",
          "height": 34
        },
        "outputId": "b45a2d28-9853-49fe-8a76-590e340636d0"
      },
      "cell_type": "code",
      "source": [
        "cost = tf.reduce_sum(loss) / batch_size\n",
        "session.run(tf.global_variables_initializer()) \n",
        "session.run(cost, feed_dict)\n"
      ],
      "execution_count": 33,
      "outputs": [
        {
          "output_type": "execute_result",
          "data": {
            "text/plain": [
              "184.21136"
            ]
          },
          "metadata": {
            "tags": []
          },
          "execution_count": 33
        }
      ]
    },
    {
      "metadata": {
        "button": false,
        "deletable": true,
        "new_sheet": false,
        "run_control": {
          "read_only": false
        },
        "id": "tt-U8SOT20nw",
        "colab_type": "text"
      },
      "cell_type": "markdown",
      "source": [
        "<h3>Training</h3>\n",
        "\n",
        "To do training for our network, we have to take the following steps:\n",
        "<ol>\n",
        "    <li>Define the optimizer.</li>\n",
        "    <li>Extract variables that are trainable.</li>\n",
        "    <li>Calculate the gradients based on the loss function.</li>\n",
        "    <li>Apply the optimizer to the variables/gradients tuple.</li>\n",
        "</ol>"
      ]
    },
    {
      "metadata": {
        "button": false,
        "deletable": true,
        "new_sheet": false,
        "run_control": {
          "read_only": false
        },
        "id": "Lha63Sqz20nx",
        "colab_type": "text"
      },
      "cell_type": "markdown",
      "source": [
        "<h4>1. Define Optimizer</h4>\n",
        "\n",
        "<b>GradientDescentOptimizer</b> constructs a new gradient descent optimizer. Later, we use constructed <b>optimizer</b> to compute gradients for a loss and apply gradients to variables."
      ]
    },
    {
      "metadata": {
        "button": false,
        "deletable": true,
        "new_sheet": false,
        "run_control": {
          "read_only": false
        },
        "id": "cvWWyB6M20nz",
        "colab_type": "code",
        "colab": {}
      },
      "cell_type": "code",
      "source": [
        "# Create a variable for the learning rate\n",
        "lr = tf.Variable(0.0, trainable=False)\n",
        "# Create the gradient descent optimizer with our learning rate\n",
        "optimizer = tf.train.GradientDescentOptimizer(lr)"
      ],
      "execution_count": 0,
      "outputs": []
    },
    {
      "metadata": {
        "button": false,
        "deletable": true,
        "new_sheet": false,
        "run_control": {
          "read_only": false
        },
        "id": "aZ3Orrcb20n2",
        "colab_type": "text"
      },
      "cell_type": "markdown",
      "source": [
        "\n",
        "<h4>2. Trainable Variables</h4>"
      ]
    },
    {
      "metadata": {
        "button": false,
        "deletable": true,
        "new_sheet": false,
        "run_control": {
          "read_only": false
        },
        "id": "J9K6D4m520n4",
        "colab_type": "text"
      },
      "cell_type": "markdown",
      "source": [
        "Defining a variable, if you passed <i>trainable=True</i>, the variable constructor automatically adds new variables to the graph collection <b>GraphKeys.TRAINABLE_VARIABLES</b>. Now, using <i>tf.trainable_variables()</i> you can get all variables created with <b>trainable=True</b>."
      ]
    },
    {
      "metadata": {
        "button": false,
        "deletable": true,
        "new_sheet": false,
        "run_control": {
          "read_only": false
        },
        "id": "WxMve6-g20n5",
        "colab_type": "code",
        "colab": {
          "base_uri": "https://localhost:8080/",
          "height": 136
        },
        "outputId": "f2a7f350-69ef-4a50-fdf8-d139ffb5971d"
      },
      "cell_type": "code",
      "source": [
        "# Get all TensorFlow variables marked as \"trainable\" (i.e. all of them except _lr, which we just created)\n",
        "tvars = tf.trainable_variables()\n",
        "tvars"
      ],
      "execution_count": 35,
      "outputs": [
        {
          "output_type": "execute_result",
          "data": {
            "text/plain": [
              "[<tf.Variable 'embedding_vocab:0' shape=(10000, 200) dtype=float32_ref>,\n",
              " <tf.Variable 'rnn/multi_rnn_cell/cell_0/basic_lstm_cell/kernel:0' shape=(456, 1024) dtype=float32_ref>,\n",
              " <tf.Variable 'rnn/multi_rnn_cell/cell_0/basic_lstm_cell/bias:0' shape=(1024,) dtype=float32_ref>,\n",
              " <tf.Variable 'rnn/multi_rnn_cell/cell_1/basic_lstm_cell/kernel:0' shape=(384, 512) dtype=float32_ref>,\n",
              " <tf.Variable 'rnn/multi_rnn_cell/cell_1/basic_lstm_cell/bias:0' shape=(512,) dtype=float32_ref>,\n",
              " <tf.Variable 'softmax_w:0' shape=(128, 10000) dtype=float32_ref>,\n",
              " <tf.Variable 'softmax_b:0' shape=(10000,) dtype=float32_ref>]"
            ]
          },
          "metadata": {
            "tags": []
          },
          "execution_count": 35
        }
      ]
    },
    {
      "metadata": {
        "button": false,
        "deletable": true,
        "new_sheet": false,
        "run_control": {
          "read_only": false
        },
        "id": "NY970Ad720n-",
        "colab_type": "text"
      },
      "cell_type": "markdown",
      "source": [
        "Note: we can find the name and scope of all variables:"
      ]
    },
    {
      "metadata": {
        "button": false,
        "deletable": true,
        "new_sheet": false,
        "run_control": {
          "read_only": false
        },
        "id": "DFtVzi9s20n_",
        "colab_type": "code",
        "colab": {
          "base_uri": "https://localhost:8080/",
          "height": 136
        },
        "outputId": "15c18cda-fe3a-400f-b11f-f57f9587b3a8"
      },
      "cell_type": "code",
      "source": [
        "[v.name for v in tvars]"
      ],
      "execution_count": 36,
      "outputs": [
        {
          "output_type": "execute_result",
          "data": {
            "text/plain": [
              "['embedding_vocab:0',\n",
              " 'rnn/multi_rnn_cell/cell_0/basic_lstm_cell/kernel:0',\n",
              " 'rnn/multi_rnn_cell/cell_0/basic_lstm_cell/bias:0',\n",
              " 'rnn/multi_rnn_cell/cell_1/basic_lstm_cell/kernel:0',\n",
              " 'rnn/multi_rnn_cell/cell_1/basic_lstm_cell/bias:0',\n",
              " 'softmax_w:0',\n",
              " 'softmax_b:0']"
            ]
          },
          "metadata": {
            "tags": []
          },
          "execution_count": 36
        }
      ]
    },
    {
      "metadata": {
        "button": false,
        "deletable": true,
        "new_sheet": false,
        "run_control": {
          "read_only": false
        },
        "id": "fXViRkAj20oF",
        "colab_type": "text"
      },
      "cell_type": "markdown",
      "source": [
        "<h4>3. Calculate the gradients based on the loss function</h4>"
      ]
    },
    {
      "metadata": {
        "button": false,
        "deletable": true,
        "new_sheet": false,
        "run_control": {
          "read_only": false
        },
        "id": "D4lKvEAG20oG",
        "colab_type": "text"
      },
      "cell_type": "markdown",
      "source": [
        "<h4>Gradient</h4>:\n",
        "The gradient of a function is the slope of its derivative (line), or in other words, the rate of change of a function. It's a vector (a direction to move) that points in the direction of greatest increase of the function, and calculated by the <b>derivative</b> operation.\n",
        "\n",
        "First lets recall the gradient function using an toy example:\n",
        "$$ z = \\left(2x^2 + 3xy\\right)$$"
      ]
    },
    {
      "metadata": {
        "button": false,
        "deletable": true,
        "new_sheet": false,
        "run_control": {
          "read_only": false
        },
        "id": "F68U4PJX20oI",
        "colab_type": "code",
        "colab": {
          "base_uri": "https://localhost:8080/",
          "height": 34
        },
        "outputId": "a99cbbb1-f0f6-44e8-9ab8-145d296608d7"
      },
      "cell_type": "code",
      "source": [
        "var_x = tf.placeholder(tf.float32)\n",
        "var_y = tf.placeholder(tf.float32) \n",
        "func_test = 2.0 * var_x * var_x + 3.0 * var_x * var_y\n",
        "session.run(tf.global_variables_initializer())\n",
        "session.run(func_test, {var_x:1.0,var_y:2.0})"
      ],
      "execution_count": 37,
      "outputs": [
        {
          "output_type": "execute_result",
          "data": {
            "text/plain": [
              "8.0"
            ]
          },
          "metadata": {
            "tags": []
          },
          "execution_count": 37
        }
      ]
    },
    {
      "metadata": {
        "button": false,
        "deletable": true,
        "new_sheet": false,
        "run_control": {
          "read_only": false
        },
        "id": "MW1CbU3g20oN",
        "colab_type": "text"
      },
      "cell_type": "markdown",
      "source": [
        "The <b>tf.gradients()</b> function allows you to compute the symbolic gradient of one tensor with respect to one or more other tensors—including variables. <b>tf.gradients(func, xs)</b> constructs symbolic partial derivatives of sum of <b>func</b> w.r.t. <i>x</i> in <b>xs</b>. \n",
        "\n",
        "Now, lets look at the derivitive w.r.t. <b>var_x</b>:\n",
        "$$ \\frac{\\partial \\:}{\\partial \\:x}\\left(2x^2 + 3xy\\right) = 4x + 3y $$\n"
      ]
    },
    {
      "metadata": {
        "button": false,
        "deletable": true,
        "new_sheet": false,
        "run_control": {
          "read_only": false
        },
        "id": "YjMC1mow20oT",
        "colab_type": "code",
        "colab": {
          "base_uri": "https://localhost:8080/",
          "height": 34
        },
        "outputId": "c128e201-da8f-4070-a0ec-9b9f2167c11f"
      },
      "cell_type": "code",
      "source": [
        "var_grad = tf.gradients(func_test, [var_x])\n",
        "session.run(var_grad, {var_x:1.0,var_y:2.0})"
      ],
      "execution_count": 38,
      "outputs": [
        {
          "output_type": "execute_result",
          "data": {
            "text/plain": [
              "[10.0]"
            ]
          },
          "metadata": {
            "tags": []
          },
          "execution_count": 38
        }
      ]
    },
    {
      "metadata": {
        "button": false,
        "deletable": true,
        "new_sheet": false,
        "run_control": {
          "read_only": false
        },
        "id": "tqnNh1XB20oY",
        "colab_type": "text"
      },
      "cell_type": "markdown",
      "source": [
        "the derivative w.r.t. <b>var_y</b>:\n",
        "$$ \\frac{\\partial \\:}{\\partial \\:x}\\left(2x^2 + 3xy\\right) = 3x $$"
      ]
    },
    {
      "metadata": {
        "button": false,
        "deletable": true,
        "new_sheet": false,
        "run_control": {
          "read_only": false
        },
        "id": "IUpYcrcM20oa",
        "colab_type": "code",
        "colab": {
          "base_uri": "https://localhost:8080/",
          "height": 34
        },
        "outputId": "760ee9fb-fa1b-4823-d85d-8cce1fc4ef8a"
      },
      "cell_type": "code",
      "source": [
        "var_grad = tf.gradients(func_test, [var_y])\n",
        "session.run(var_grad, {var_x:1.0, var_y:2.0})"
      ],
      "execution_count": 39,
      "outputs": [
        {
          "output_type": "execute_result",
          "data": {
            "text/plain": [
              "[3.0]"
            ]
          },
          "metadata": {
            "tags": []
          },
          "execution_count": 39
        }
      ]
    },
    {
      "metadata": {
        "button": false,
        "deletable": true,
        "new_sheet": false,
        "run_control": {
          "read_only": false
        },
        "id": "KSditlSu20oe",
        "colab_type": "text"
      },
      "cell_type": "markdown",
      "source": [
        "Now, we can look at gradients w.r.t all variables:"
      ]
    },
    {
      "metadata": {
        "button": false,
        "deletable": true,
        "new_sheet": false,
        "run_control": {
          "read_only": false
        },
        "id": "nnmSVf_T20of",
        "colab_type": "code",
        "colab": {
          "base_uri": "https://localhost:8080/",
          "height": 207
        },
        "outputId": "80e767e5-356f-442e-f509-88ed9f53ff4d"
      },
      "cell_type": "code",
      "source": [
        "tf.gradients(cost, tvars)"
      ],
      "execution_count": 40,
      "outputs": [
        {
          "output_type": "stream",
          "text": [
            "WARNING:tensorflow:From /usr/local/lib/python3.6/dist-packages/tensorflow/python/ops/array_grad.py:425: to_int32 (from tensorflow.python.ops.math_ops) is deprecated and will be removed in a future version.\n",
            "Instructions for updating:\n",
            "Use tf.cast instead.\n"
          ],
          "name": "stdout"
        },
        {
          "output_type": "execute_result",
          "data": {
            "text/plain": [
              "[<tensorflow.python.framework.ops.IndexedSlices at 0x7f82f7571c50>,\n",
              " <tf.Tensor 'gradients_2/rnn/while/rnn/multi_rnn_cell/cell_0/basic_lstm_cell/MatMul/Enter_grad/b_acc_3:0' shape=(456, 1024) dtype=float32>,\n",
              " <tf.Tensor 'gradients_2/rnn/while/rnn/multi_rnn_cell/cell_0/basic_lstm_cell/BiasAdd/Enter_grad/b_acc_3:0' shape=(1024,) dtype=float32>,\n",
              " <tf.Tensor 'gradients_2/rnn/while/rnn/multi_rnn_cell/cell_1/basic_lstm_cell/MatMul/Enter_grad/b_acc_3:0' shape=(384, 512) dtype=float32>,\n",
              " <tf.Tensor 'gradients_2/rnn/while/rnn/multi_rnn_cell/cell_1/basic_lstm_cell/BiasAdd/Enter_grad/b_acc_3:0' shape=(512,) dtype=float32>,\n",
              " <tf.Tensor 'gradients_2/MatMul_grad/MatMul_1:0' shape=(128, 10000) dtype=float32>,\n",
              " <tf.Tensor 'gradients_2/add_grad/Reshape_1:0' shape=(10000,) dtype=float32>]"
            ]
          },
          "metadata": {
            "tags": []
          },
          "execution_count": 40
        }
      ]
    },
    {
      "metadata": {
        "button": false,
        "deletable": true,
        "new_sheet": false,
        "run_control": {
          "read_only": false
        },
        "scrolled": true,
        "id": "U6hTQdI620ok",
        "colab_type": "code",
        "colab": {}
      },
      "cell_type": "code",
      "source": [
        "grad_t_list = tf.gradients(cost, tvars)\n",
        "#sess.run(grad_t_list,feed_dict)"
      ],
      "execution_count": 0,
      "outputs": []
    },
    {
      "metadata": {
        "button": false,
        "deletable": true,
        "new_sheet": false,
        "run_control": {
          "read_only": false
        },
        "id": "VCYOHraG20oo",
        "colab_type": "text"
      },
      "cell_type": "markdown",
      "source": [
        "\n",
        "\n",
        "\n",
        "now, we have a list of tensors, t-list. We can use it to find clipped tensors. <b>clip_by_global_norm</b> clips values of multiple tensors by the ratio of the sum of their norms.\n",
        "\n",
        "<b>clip_by_global_norm</b> get <i>t-list</i> as input and returns 2 things:\n",
        "<ul>\n",
        "    <li>a list of clipped tensors, so called <i>list_clipped</i></li> \n",
        "    <li>the global norm (global_norm) of all tensors in t_list</li> \n",
        "</ul>"
      ]
    },
    {
      "metadata": {
        "button": false,
        "deletable": true,
        "new_sheet": false,
        "run_control": {
          "read_only": false
        },
        "id": "WxN4A2M120ou",
        "colab_type": "code",
        "colab": {
          "base_uri": "https://localhost:8080/",
          "height": 136
        },
        "outputId": "42683abc-0145-479e-b362-c091eb1d7d6f"
      },
      "cell_type": "code",
      "source": [
        "# Define the gradient clipping threshold\n",
        "grads, _ = tf.clip_by_global_norm(grad_t_list, max_grad_norm)\n",
        "grads"
      ],
      "execution_count": 42,
      "outputs": [
        {
          "output_type": "execute_result",
          "data": {
            "text/plain": [
              "[<tensorflow.python.framework.ops.IndexedSlices at 0x7f82f7595518>,\n",
              " <tf.Tensor 'clip_by_global_norm/clip_by_global_norm/_1:0' shape=(456, 1024) dtype=float32>,\n",
              " <tf.Tensor 'clip_by_global_norm/clip_by_global_norm/_2:0' shape=(1024,) dtype=float32>,\n",
              " <tf.Tensor 'clip_by_global_norm/clip_by_global_norm/_3:0' shape=(384, 512) dtype=float32>,\n",
              " <tf.Tensor 'clip_by_global_norm/clip_by_global_norm/_4:0' shape=(512,) dtype=float32>,\n",
              " <tf.Tensor 'clip_by_global_norm/clip_by_global_norm/_5:0' shape=(128, 10000) dtype=float32>,\n",
              " <tf.Tensor 'clip_by_global_norm/clip_by_global_norm/_6:0' shape=(10000,) dtype=float32>]"
            ]
          },
          "metadata": {
            "tags": []
          },
          "execution_count": 42
        }
      ]
    },
    {
      "metadata": {
        "button": false,
        "deletable": true,
        "new_sheet": false,
        "run_control": {
          "read_only": false
        },
        "id": "GtOBBCYQ20o6",
        "colab_type": "code",
        "colab": {
          "base_uri": "https://localhost:8080/",
          "height": 3182
        },
        "outputId": "2c616a9d-fd8e-442f-c11e-883a7ca55764"
      },
      "cell_type": "code",
      "source": [
        "session.run(grads, feed_dict)"
      ],
      "execution_count": 43,
      "outputs": [
        {
          "output_type": "execute_result",
          "data": {
            "text/plain": [
              "[IndexedSlicesValue(values=array([[ 1.0701120e-05,  1.1311926e-05, -2.6773237e-06, ...,\n",
              "        -2.1889992e-08,  1.5897251e-05, -8.3919667e-06],\n",
              "       [ 7.4020782e-06,  6.6503535e-06, -5.9007793e-06, ...,\n",
              "        -4.8672985e-07,  4.1614280e-06, -1.2092849e-05],\n",
              "       [-5.0435852e-07,  6.1621695e-06, -1.0536528e-05, ...,\n",
              "         1.0321578e-07, -6.2201575e-06, -8.7172148e-06],\n",
              "       ...,\n",
              "       [-2.7490414e-06,  1.9742640e-06,  1.6158037e-05, ...,\n",
              "        -9.1342838e-07,  3.9510971e-07,  7.0838378e-06],\n",
              "       [ 1.5450307e-06,  2.6269395e-06,  1.3088568e-05, ...,\n",
              "        -2.0096106e-06,  5.5068261e-07,  3.2059636e-06],\n",
              "       [ 4.2521824e-06, -7.2845722e-08,  5.0442027e-06, ...,\n",
              "         3.2720702e-06,  6.5760184e-07,  5.3690633e-07]], dtype=float32), indices=array([9970, 9971, 9972, ..., 2043,   23,    1], dtype=int32), dense_shape=array([10000,   200], dtype=int32)),\n",
              " array([[-4.2142165e-09, -1.3033748e-08, -5.9155280e-08, ...,\n",
              "         -6.0477512e-09, -1.5227624e-08,  2.2808710e-08],\n",
              "        [ 7.2809891e-09, -2.6318123e-08,  4.0654444e-09, ...,\n",
              "          7.8794060e-10, -2.8594897e-08, -2.1632127e-08],\n",
              "        [-4.6108299e-09,  1.9495916e-08,  5.2423736e-08, ...,\n",
              "         -1.4239749e-08, -1.1335250e-08,  2.4018604e-08],\n",
              "        ...,\n",
              "        [ 3.4877861e-09,  4.0894101e-09,  6.2327401e-09, ...,\n",
              "         -7.0255357e-09, -1.8914772e-09,  1.4766591e-09],\n",
              "        [ 1.4849959e-09,  2.5309332e-10,  7.0031771e-09, ...,\n",
              "         -1.9336173e-09, -1.2630987e-08,  1.5200776e-09],\n",
              "        [ 9.8122932e-10,  2.0957491e-09, -1.4081415e-09, ...,\n",
              "          1.1973330e-09, -4.0302592e-09,  7.3795441e-09]], dtype=float32),\n",
              " array([ 4.1661269e-06,  4.6228789e-07, -2.3765929e-06, ...,\n",
              "         3.2088597e-06,  1.5361552e-06, -8.6417589e-07], dtype=float32),\n",
              " array([[-5.0051241e-10, -8.2307698e-09,  2.0153923e-09, ...,\n",
              "         -1.1378340e-08, -7.6628046e-09, -1.3598503e-08],\n",
              "        [ 1.3150100e-08, -1.1499546e-08, -1.3572173e-09, ...,\n",
              "         -1.9260506e-08, -3.9082706e-09, -4.8132858e-09],\n",
              "        [-9.1888595e-09,  1.1296038e-08,  1.0674633e-09, ...,\n",
              "          7.1003807e-09,  8.2326643e-09,  1.6587224e-08],\n",
              "        ...,\n",
              "        [ 7.6562912e-10, -3.2915997e-09, -8.2279406e-11, ...,\n",
              "         -8.8308756e-09, -5.7527527e-10, -2.4043760e-09],\n",
              "        [ 2.4961513e-09,  1.6995556e-09,  5.0675331e-10, ...,\n",
              "          9.9336706e-10,  2.9385632e-09,  1.5827125e-09],\n",
              "        [-3.2860885e-09,  1.3816861e-09,  2.4529532e-09, ...,\n",
              "         -8.0218188e-10, -6.2111244e-10, -4.1338346e-09]], dtype=float32),\n",
              " array([-3.20097865e-06,  5.37650976e-06, -3.24369580e-06, -1.07259972e-07,\n",
              "        -1.91252366e-06, -4.09745979e-07,  8.13690178e-07,  2.38837379e-06,\n",
              "         5.13428404e-06, -6.23351343e-06, -3.50580285e-06,  5.32324748e-06,\n",
              "         2.69732169e-07,  8.65599361e-07,  4.02650016e-07,  1.97489882e-07,\n",
              "         3.55495331e-06, -2.56888825e-06,  1.11353256e-06,  3.05112826e-06,\n",
              "        -1.17122568e-06,  4.70497412e-07, -1.03963202e-06,  2.96754752e-06,\n",
              "         1.04355422e-06,  1.59834781e-06,  3.97369331e-06,  9.29859766e-07,\n",
              "        -1.45597198e-06,  5.01727209e-06,  5.05304251e-06,  1.82345480e-06,\n",
              "        -1.02359593e-06, -3.55225188e-06, -7.77157220e-06, -1.50745620e-06,\n",
              "        -1.07499645e-05, -3.04205287e-06, -2.26739985e-06,  1.75515038e-06,\n",
              "        -7.38174663e-07,  8.65864649e-07, -2.14376928e-06,  3.52773077e-06,\n",
              "        -5.60483159e-07,  4.05004903e-06,  2.22829016e-07,  3.01011096e-06,\n",
              "         3.94048448e-06,  4.46036154e-07, -4.31734361e-06,  4.88322144e-07,\n",
              "         1.27324608e-06,  1.82934934e-06,  2.20191464e-06,  1.62463516e-06,\n",
              "        -2.32231514e-06,  6.78272727e-06,  2.76980427e-06, -3.87187538e-06,\n",
              "        -4.80920744e-06,  3.66060931e-06,  4.74129274e-06, -2.66000393e-06,\n",
              "         9.04006640e-07, -3.48041999e-06,  1.58875798e-06, -2.33020592e-06,\n",
              "        -2.16592525e-06,  4.18145737e-06,  4.61595664e-06,  8.06887692e-06,\n",
              "         2.32751700e-06, -9.97593133e-07,  3.59421506e-07,  6.06595040e-06,\n",
              "        -6.34417893e-06, -2.15726141e-06,  3.32164200e-06,  1.46802336e-06,\n",
              "         1.67213591e-06, -7.56860982e-06, -1.07817777e-06,  1.85518093e-06,\n",
              "         3.78189134e-06,  1.95776056e-06, -2.40606619e-06, -2.02230422e-06,\n",
              "        -6.90392972e-06, -3.83652696e-06, -3.15362490e-06, -6.50620541e-06,\n",
              "         7.23433402e-07,  1.91656363e-06,  4.37888502e-06,  4.24010250e-06,\n",
              "         5.67720645e-06, -6.31379635e-06,  1.75163348e-06,  2.52123436e-06,\n",
              "        -3.20305480e-06,  2.78766311e-06,  1.14181987e-07,  1.57533759e-06,\n",
              "        -1.71239378e-06, -2.94861798e-06,  1.82298629e-06, -8.07963079e-06,\n",
              "        -8.22193215e-07,  2.43431737e-06,  8.07324909e-08,  2.38401344e-06,\n",
              "         5.12697579e-06, -1.46571119e-06,  4.06391200e-06, -2.65761855e-06,\n",
              "         3.91011508e-06,  4.40858628e-07,  6.45955254e-07,  1.42306942e-06,\n",
              "        -4.07167818e-06,  3.21431958e-06,  3.97533358e-06,  5.59610726e-07,\n",
              "        -3.08645303e-06,  6.60817022e-06,  2.52030213e-06,  2.57403735e-06,\n",
              "        -2.22322159e-03, -2.95471177e-02, -2.10792688e-03,  1.44964736e-02,\n",
              "        -7.74239842e-03,  1.32958917e-03,  5.94429672e-03, -3.87128815e-03,\n",
              "        -1.92676857e-02, -3.06118242e-02,  1.66330747e-02, -2.25726254e-02,\n",
              "         7.73813669e-03,  6.46488182e-03, -5.61931357e-03, -1.25193754e-02,\n",
              "        -2.74552032e-03,  9.05612856e-03, -1.34491557e-02,  1.05038239e-03,\n",
              "         1.08214170e-02,  2.81133736e-03, -4.66092722e-03, -4.42605047e-03,\n",
              "         9.62418038e-03, -1.01518724e-02,  1.64628010e-02,  1.82845220e-02,\n",
              "        -8.87422182e-04, -1.64457969e-02,  1.98363513e-03, -1.23917004e-02,\n",
              "         1.43218203e-03,  4.30630706e-02,  2.13135518e-02,  1.52242184e-02,\n",
              "        -1.56401377e-02,  3.18577439e-02,  1.15466937e-02, -2.05249060e-02,\n",
              "        -1.70297991e-03,  5.38196531e-04, -3.95004340e-02,  1.87770110e-02,\n",
              "        -1.48894917e-02,  3.80456727e-03,  1.70649737e-02, -1.88275278e-02,\n",
              "         8.31788871e-03,  2.89216489e-02, -6.79592695e-03,  2.59075593e-02,\n",
              "         7.65233766e-03, -6.23311009e-03,  1.96183678e-02,  9.83001944e-03,\n",
              "        -7.37323426e-03, -2.93795615e-02,  2.88038030e-02, -2.15651840e-02,\n",
              "        -2.79039089e-02, -2.01441869e-02,  9.85074416e-03,  1.26805641e-02,\n",
              "        -1.17018986e-02,  3.78727564e-03,  1.67587548e-02, -1.41737871e-02,\n",
              "        -2.60238815e-03,  8.57297797e-03,  1.07873324e-02, -2.79555228e-02,\n",
              "         2.31675524e-03, -2.10021529e-03, -9.24825016e-03,  1.42038669e-02,\n",
              "         1.37497801e-02,  1.45205501e-02, -1.72381923e-02, -7.38217821e-03,\n",
              "        -1.13167139e-02, -3.87548916e-02, -2.40356755e-03, -6.84620487e-03,\n",
              "        -2.78521469e-03,  8.46522488e-03,  4.20334749e-03,  4.04696772e-03,\n",
              "        -2.26945803e-02,  9.35771561e-04,  2.12043431e-03, -5.34586981e-03,\n",
              "        -1.57153588e-02, -7.81104062e-03,  1.70742720e-03,  3.32344812e-03,\n",
              "        -2.19845586e-02, -7.93556403e-03,  2.17816606e-02,  1.08045936e-02,\n",
              "         1.15072299e-02, -6.25526067e-03, -1.07504865e-02,  9.61752515e-03,\n",
              "        -1.48152029e-02, -3.01721320e-03, -1.71595924e-02, -5.31636737e-03,\n",
              "         5.05224103e-03, -4.24206397e-03, -6.77861180e-03, -4.29293467e-03,\n",
              "         1.72193609e-02, -1.41477343e-02, -2.16681529e-02,  2.65421020e-03,\n",
              "        -3.11472528e-02,  2.41555832e-02, -1.03814546e-02, -1.55574400e-02,\n",
              "        -3.01160254e-02, -1.34659121e-02,  9.07594338e-03, -4.03080881e-03,\n",
              "         2.72566900e-02, -2.46642288e-02,  7.36642815e-03, -1.09411301e-02,\n",
              "         6.00846306e-07,  2.22048493e-06, -2.11678025e-06,  4.67892448e-07,\n",
              "         9.38797655e-07,  3.46834554e-07,  1.25815745e-06,  3.98957980e-07,\n",
              "         4.46677768e-06, -7.81258404e-06, -1.95973871e-06,  5.05481376e-06,\n",
              "         5.72459271e-07, -6.06937817e-07, -2.23503321e-06,  1.57060344e-06,\n",
              "         3.00260990e-06, -3.35457025e-06, -9.42214115e-07,  4.15521129e-07,\n",
              "         1.92712241e-06, -4.29083798e-07, -1.43808825e-06,  3.58037641e-06,\n",
              "         1.81682526e-06,  1.65481322e-06,  3.16211481e-06, -3.95714522e-07,\n",
              "         4.44328208e-07,  3.79251469e-06,  2.12389978e-06,  2.05899312e-07,\n",
              "         9.33203467e-07, -2.30320165e-06, -5.00015267e-06, -1.49718210e-06,\n",
              "        -6.57318606e-06, -4.61804939e-06, -3.88069429e-06,  1.64007065e-06,\n",
              "         1.18053464e-07,  3.48637877e-06, -7.32623789e-07,  5.47332456e-06,\n",
              "        -3.65311678e-07,  3.28859323e-06,  2.20311108e-06,  3.67854500e-06,\n",
              "         1.37624920e-06, -1.64717704e-07, -2.96775033e-06, -3.53469375e-07,\n",
              "         2.65351957e-07,  1.94541758e-06, -8.89837892e-09,  3.55126463e-06,\n",
              "        -1.78117091e-07,  6.20420360e-06,  1.57808563e-06, -3.88454237e-06,\n",
              "        -6.27362351e-06,  2.87405260e-06,  9.13004783e-07, -4.75629213e-06,\n",
              "        -8.80511948e-07,  1.00981231e-06,  9.19126705e-07, -2.39999395e-06,\n",
              "        -2.91363085e-06,  1.66051859e-06,  2.98061377e-06,  4.18496438e-06,\n",
              "        -1.05080107e-06, -1.55896237e-06,  1.18164337e-07,  2.80049721e-06,\n",
              "        -4.23514439e-06,  1.57135233e-07,  2.79524693e-06,  3.88001172e-06,\n",
              "         2.19578465e-06, -6.75779529e-06,  5.14108422e-07, -1.44309513e-06,\n",
              "         1.30584795e-06,  4.73978662e-06, -2.04397224e-06, -1.84710734e-06,\n",
              "        -3.22375809e-06, -8.96313168e-07, -7.61198066e-07, -6.03502076e-06,\n",
              "         1.79782251e-06, -1.07506378e-06,  4.30218415e-06,  4.10983739e-06,\n",
              "         6.32689171e-06, -2.04418006e-06,  2.08984034e-06, -1.63375159e-06,\n",
              "        -1.61984872e-06,  2.33172045e-06,  4.46037120e-07,  1.82789461e-06,\n",
              "        -1.42611597e-07, -3.17372928e-06,  3.47462856e-06, -4.09967151e-06,\n",
              "        -1.16625097e-06,  1.27509463e-06,  1.24449272e-07,  9.67803999e-07,\n",
              "         3.74783144e-06, -3.17462195e-06,  4.31248600e-06, -2.73379669e-06,\n",
              "         3.45737135e-06,  1.79245632e-07, -4.23910990e-07,  1.37586113e-07,\n",
              "        -3.37430492e-06,  2.13007911e-06,  2.69231947e-07, -2.49314462e-06,\n",
              "        -2.59074659e-06,  6.11963833e-06,  1.37902384e-06,  1.40909856e-06,\n",
              "        -3.19843912e-06,  5.37599817e-06, -3.24134817e-06, -1.01305517e-07,\n",
              "        -1.91153208e-06, -4.11933598e-07,  8.11732320e-07,  2.38834400e-06,\n",
              "         5.13741816e-06, -6.23370397e-06, -3.49744641e-06,  5.32488593e-06,\n",
              "         2.73278260e-07,  8.68537825e-07,  4.03647419e-07,  1.99192669e-07,\n",
              "         3.55673160e-06, -2.57360398e-06,  1.11654822e-06,  3.05196795e-06,\n",
              "        -1.17196601e-06,  4.72914166e-07, -1.04545200e-06,  2.96751045e-06,\n",
              "         1.04751655e-06,  1.59889737e-06,  3.97335634e-06,  9.30609588e-07,\n",
              "        -1.45618287e-06,  5.01545628e-06,  5.05411390e-06,  1.82040412e-06,\n",
              "        -1.02657475e-06, -3.55799511e-06, -7.77508740e-06, -1.50961239e-06,\n",
              "        -1.07519672e-05, -3.03862703e-06, -2.26715656e-06,  1.75556966e-06,\n",
              "        -7.39681241e-07,  8.65315315e-07, -2.14676857e-06,  3.52354732e-06,\n",
              "        -5.59405805e-07,  4.04875436e-06,  2.26769686e-07,  3.01346063e-06,\n",
              "         3.94129120e-06,  4.43378838e-07, -4.32614797e-06,  4.82994778e-07,\n",
              "         1.27611531e-06,  1.82663268e-06,  2.20573543e-06,  1.62305480e-06,\n",
              "        -2.32482262e-06,  6.78702190e-06,  2.76309970e-06, -3.87463706e-06,\n",
              "        -4.80760400e-06,  3.66236304e-06,  4.74125682e-06, -2.65724793e-06,\n",
              "         9.06889625e-07, -3.47596301e-06,  1.59111619e-06, -2.32392199e-06,\n",
              "        -2.16561193e-06,  4.17901356e-06,  4.61259197e-06,  8.06716344e-06,\n",
              "         2.32843377e-06, -1.00115778e-06,  3.60991947e-07,  6.06180811e-06,\n",
              "        -6.34658181e-06, -2.15575710e-06,  3.31802607e-06,  1.46557409e-06,\n",
              "         1.67372866e-06, -7.57361840e-06, -1.08027541e-06,  1.85081296e-06,\n",
              "         3.77843321e-06,  1.94996278e-06, -2.40987038e-06, -2.02253887e-06,\n",
              "        -6.90903198e-06, -3.84177474e-06, -3.15162333e-06, -6.50706943e-06,\n",
              "         7.23742346e-07,  1.92202788e-06,  4.37875087e-06,  4.24271047e-06,\n",
              "         5.67583629e-06, -6.31093826e-06,  1.75178263e-06,  2.52360451e-06,\n",
              "        -3.20687877e-06,  2.78138782e-06,  1.10455375e-07,  1.57661452e-06,\n",
              "        -1.71565375e-06, -2.94890219e-06,  1.81857911e-06, -8.06924527e-06,\n",
              "        -8.21107506e-07,  2.43914292e-06,  7.50348477e-08,  2.38006032e-06,\n",
              "         5.12903807e-06, -1.47036076e-06,  4.06476238e-06, -2.65629069e-06,\n",
              "         3.90671630e-06,  4.38604332e-07,  6.48844775e-07,  1.41906787e-06,\n",
              "        -4.07409152e-06,  3.21092625e-06,  3.97164604e-06,  5.58514216e-07,\n",
              "        -3.08292874e-06,  6.61067952e-06,  2.51832307e-06,  2.57926354e-06],\n",
              "       dtype=float32),\n",
              " array([[-3.35485602e-05, -6.41103034e-05,  1.47552462e-04, ...,\n",
              "         -1.04877458e-07, -1.02356886e-07, -1.02288432e-07],\n",
              "        [-8.68668503e-05,  5.24297718e-07,  1.30685279e-04, ...,\n",
              "         -1.00109801e-07, -9.76803562e-08, -9.76099344e-08],\n",
              "        [ 4.63045217e-05,  7.57684829e-05, -1.17820193e-04, ...,\n",
              "         -8.03309703e-08, -7.83823921e-08, -7.83675915e-08],\n",
              "        ...,\n",
              "        [ 1.70638101e-04,  2.69073149e-04,  2.09051010e-04, ...,\n",
              "         -3.10166172e-07, -3.02622112e-07, -3.02451696e-07],\n",
              "        [-8.94297991e-05, -1.22196609e-04, -1.69984596e-05, ...,\n",
              "          5.78739332e-08,  5.64486839e-08,  5.64378446e-08],\n",
              "        [ 2.12177081e-04,  2.71962090e-05,  1.16624266e-04, ...,\n",
              "         -1.06161096e-07, -1.03578252e-07, -1.03522282e-07]], dtype=float32),\n",
              " array([-0.7813449 , -1.0980009 , -0.9813349 , ...,  0.00201989,\n",
              "         0.00197082,  0.00196967], dtype=float32)]"
            ]
          },
          "metadata": {
            "tags": []
          },
          "execution_count": 43
        }
      ]
    },
    {
      "metadata": {
        "button": false,
        "deletable": true,
        "new_sheet": false,
        "run_control": {
          "read_only": false
        },
        "id": "zl8kds9Z20o-",
        "colab_type": "text"
      },
      "cell_type": "markdown",
      "source": [
        "<h4>4. Apply the optimizer to the variables / gradients tuple.</h4>"
      ]
    },
    {
      "metadata": {
        "button": false,
        "deletable": true,
        "new_sheet": false,
        "run_control": {
          "read_only": false
        },
        "id": "5toV9w5N20o_",
        "colab_type": "code",
        "colab": {}
      },
      "cell_type": "code",
      "source": [
        "# Create the training TensorFlow Operation through our optimizer\n",
        "train_op = optimizer.apply_gradients(zip(grads, tvars))"
      ],
      "execution_count": 0,
      "outputs": []
    },
    {
      "metadata": {
        "button": false,
        "deletable": true,
        "new_sheet": false,
        "run_control": {
          "read_only": false
        },
        "id": "KD7mYDq820pE",
        "colab_type": "code",
        "colab": {}
      },
      "cell_type": "code",
      "source": [
        "session.run(tf.global_variables_initializer())\n",
        "session.run(train_op, feed_dict)"
      ],
      "execution_count": 0,
      "outputs": []
    },
    {
      "metadata": {
        "id": "Opz-90CT20pH",
        "colab_type": "text"
      },
      "cell_type": "markdown",
      "source": [
        "<a id=\"ltsm\"></a>\n",
        "<h2>LSTM</h2>"
      ]
    },
    {
      "metadata": {
        "button": false,
        "deletable": true,
        "new_sheet": false,
        "run_control": {
          "read_only": false
        },
        "id": "FY_nt5cQ20pH",
        "colab_type": "text"
      },
      "cell_type": "markdown",
      "source": [
        "We learned how the model is build step by step. Noe, let's then create a Class that represents our model. This class needs a few things:\n",
        "<ul>\n",
        "    <li>We have to create the model in accordance with our defined hyperparameters</li>\n",
        "    <li>We have to create the placeholders for our input data and expected outputs (the real data)</li>\n",
        "    <li>We have to create the LSTM cell structure and connect them with our RNN structure</li>\n",
        "    <li>We have to create the word embeddings and point them to the input data</li>\n",
        "    <li>We have to create the input structure for our RNN</li>\n",
        "    <li>We have to instantiate our RNN model and retrieve the variable in which we should expect our outputs to appear</li>\n",
        "    <li>We need to create a logistic structure to return the probability of our words</li>\n",
        "    <li>We need to create the loss and cost functions for our optimizer to work, and then create the optimizer</li>\n",
        "    <li>And finally, we need to create a training operation that can be run to actually train our model</li>\n",
        "</ul>"
      ]
    },
    {
      "metadata": {
        "id": "qQPp-WQg20pJ",
        "colab_type": "code",
        "colab": {
          "base_uri": "https://localhost:8080/",
          "height": 34
        },
        "outputId": "6748e89b-804c-44e1-ea0c-ef1abc308a7d"
      },
      "cell_type": "code",
      "source": [
        "hidden_size_l1"
      ],
      "execution_count": 46,
      "outputs": [
        {
          "output_type": "execute_result",
          "data": {
            "text/plain": [
              "256"
            ]
          },
          "metadata": {
            "tags": []
          },
          "execution_count": 46
        }
      ]
    },
    {
      "metadata": {
        "button": false,
        "deletable": true,
        "new_sheet": false,
        "run_control": {
          "read_only": false
        },
        "id": "MLmivkQZ20pL",
        "colab_type": "code",
        "colab": {}
      },
      "cell_type": "code",
      "source": [
        "class PTBModel(object):\n",
        "\n",
        "    def __init__(self, action_type):\n",
        "        ######################################\n",
        "        # Setting parameters for ease of use #\n",
        "        ######################################\n",
        "        self.batch_size = batch_size\n",
        "        self.num_steps = num_steps\n",
        "        self.hidden_size_l1 = hidden_size_l1\n",
        "        self.hidden_size_l2 = hidden_size_l2\n",
        "        self.vocab_size = vocab_size\n",
        "        self.embeding_vector_size = embeding_vector_size\n",
        "        ###############################################################################\n",
        "        # Creating placeholders for our input data and expected outputs (target data) #\n",
        "        ###############################################################################\n",
        "        self._input_data = tf.placeholder(tf.int32, [batch_size, num_steps]) #[30#20]\n",
        "        self._targets = tf.placeholder(tf.int32, [batch_size, num_steps]) #[30#20]\n",
        "\n",
        "        ##########################################################################\n",
        "        # Creating the LSTM cell structure and connect it with the RNN structure #\n",
        "        ##########################################################################\n",
        "        # Create the LSTM unit. \n",
        "        # This creates only the structure for the LSTM and has to be associated with a RNN unit still.\n",
        "        # The argument n_hidden(size=200) of BasicLSTMCell is size of hidden layer, that is, the number of hidden units of the LSTM (inside A).\n",
        "        # Size is the same as the size of our hidden layer, and no bias is added to the Forget Gate. \n",
        "        # LSTM cell processes one word at a time and computes probabilities of the possible continuations of the sentence.\n",
        "        lstm_cell_l1 = tf.contrib.rnn.BasicLSTMCell(self.hidden_size_l1, forget_bias=0.0)\n",
        "        lstm_cell_l2 = tf.contrib.rnn.BasicLSTMCell(self.hidden_size_l2, forget_bias=0.0)\n",
        "        \n",
        "        # Unless you changed keep_prob, this won't actually execute -- this is a dropout wrapper for our LSTM unit\n",
        "        # This is an optimization of the LSTM output, but is not needed at all\n",
        "        if action_type == \"is_training\" and keep_prob < 1:\n",
        "            lstm_cell_l1 = tf.contrib.rnn.DropoutWrapper(lstm_cell_l1, output_keep_prob=keep_prob)\n",
        "            lstm_cell_l2 = tf.contrib.rnn.DropoutWrapper(lstm_cell_l2, output_keep_prob=keep_prob)\n",
        "        \n",
        "        # By taking in the LSTM cells as parameters, the MultiRNNCell function junctions the LSTM units to the RNN units.\n",
        "        # RNN cell composed sequentially of multiple simple cells.\n",
        "        stacked_lstm = tf.contrib.rnn.MultiRNNCell([lstm_cell_l1, lstm_cell_l2])\n",
        "\n",
        "        # Define the initial state, i.e., the model state for the very first data point\n",
        "        # It initialize the state of the LSTM memory. The memory state of the network is initialized with a vector of zeros and gets updated after reading each word.\n",
        "        self._initial_state = stacked_lstm.zero_state(batch_size, tf.float32)\n",
        "\n",
        "        ####################################################################\n",
        "        # Creating the word embeddings and pointing them to the input data #\n",
        "        ####################################################################\n",
        "        with tf.device(\"/cpu:0\"):\n",
        "            # Create the embeddings for our input data. Size is hidden size.\n",
        "            embedding = tf.get_variable(\"embedding\", [vocab_size, self.embeding_vector_size])  #[10000x200]\n",
        "            # Define where to get the data for our embeddings from\n",
        "            inputs = tf.nn.embedding_lookup(embedding, self._input_data)\n",
        "\n",
        "        # Unless you changed keep_prob, this won't actually execute -- this is a dropout addition for our inputs\n",
        "        # This is an optimization of the input processing and is not needed at all\n",
        "        if action_type == \"is_training\" and keep_prob < 1:\n",
        "            inputs = tf.nn.dropout(inputs, keep_prob)\n",
        "\n",
        "        ############################################\n",
        "        # Creating the input structure for our RNN #\n",
        "        ############################################\n",
        "        # Input structure is 20x[30x200]\n",
        "        # Considering each word is represended by a 200 dimentional vector, and we have 30 batchs, we create 30 word-vectors of size [30xx2000]\n",
        "        # inputs = [tf.squeeze(input_, [1]) for input_ in tf.split(1, num_steps, inputs)]\n",
        "        # The input structure is fed from the embeddings, which are filled in by the input data\n",
        "        # Feeding a batch of b sentences to a RNN:\n",
        "        # In step 1,  first word of each of the b sentences (in a batch) is input in parallel.  \n",
        "        # In step 2,  second word of each of the b sentences is input in parallel. \n",
        "        # The parallelism is only for efficiency.  \n",
        "        # Each sentence in a batch is handled in parallel, but the network sees one word of a sentence at a time and does the computations accordingly. \n",
        "        # All the computations involving the words of all sentences in a batch at a given time step are done in parallel. \n",
        "\n",
        "        ####################################################################################################\n",
        "        # Instantiating our RNN model and retrieving the structure for returning the outputs and the state #\n",
        "        ####################################################################################################\n",
        "        \n",
        "        outputs, state = tf.nn.dynamic_rnn(stacked_lstm, inputs, initial_state=self._initial_state)\n",
        "        #########################################################################\n",
        "        # Creating a logistic unit to return the probability of the output word #\n",
        "        #########################################################################\n",
        "        output = tf.reshape(outputs, [-1, self.hidden_size_l2])\n",
        "        softmax_w = tf.get_variable(\"softmax_w\", [self.hidden_size_l2, vocab_size]) #[200x1000]\n",
        "        softmax_b = tf.get_variable(\"softmax_b\", [vocab_size]) #[1x1000]\n",
        "        logits = tf.matmul(output, softmax_w) + softmax_b\n",
        "        logits = tf.reshape(logits, [self.batch_size, self.num_steps, vocab_size])\n",
        "        prob = tf.nn.softmax(logits)\n",
        "        out_words = tf.argmax(prob, axis=2)\n",
        "        self._output_words = out_words\n",
        "        #########################################################################\n",
        "        # Defining the loss and cost functions for the model's learning to work #\n",
        "        #########################################################################\n",
        "            \n",
        "\n",
        "        # Use the contrib sequence loss and average over the batches\n",
        "        loss = tf.contrib.seq2seq.sequence_loss(\n",
        "            logits,\n",
        "            self.targets,\n",
        "            tf.ones([batch_size, num_steps], dtype=tf.float32),\n",
        "            average_across_timesteps=False,\n",
        "            average_across_batch=True)\n",
        "    \n",
        "#         loss = tf.contrib.legacy_seq2seq.sequence_loss_by_example([logits], [tf.reshape(self._targets, [-1])],\n",
        "#                                                       [tf.ones([batch_size * num_steps])])\n",
        "        self._cost = tf.reduce_sum(loss)\n",
        "\n",
        "        # Store the final state\n",
        "        self._final_state = state\n",
        "\n",
        "        #Everything after this point is relevant only for training\n",
        "        if action_type != \"is_training\":\n",
        "            return\n",
        "\n",
        "        #################################################\n",
        "        # Creating the Training Operation for our Model #\n",
        "        #################################################\n",
        "        # Create a variable for the learning rate\n",
        "        self._lr = tf.Variable(0.0, trainable=False)\n",
        "        # Get all TensorFlow variables marked as \"trainable\" (i.e. all of them except _lr, which we just created)\n",
        "        tvars = tf.trainable_variables()\n",
        "        # Define the gradient clipping threshold\n",
        "        grads, _ = tf.clip_by_global_norm(tf.gradients(self._cost, tvars), max_grad_norm)\n",
        "        # Create the gradient descent optimizer with our learning rate\n",
        "        optimizer = tf.train.GradientDescentOptimizer(self.lr)\n",
        "        # Create the training TensorFlow Operation through our optimizer\n",
        "        self._train_op = optimizer.apply_gradients(zip(grads, tvars))\n",
        "\n",
        "    # Helper functions for our LSTM RNN class\n",
        "\n",
        "    # Assign the learning rate for this model\n",
        "    def assign_lr(self, session, lr_value):\n",
        "        session.run(tf.assign(self.lr, lr_value))\n",
        "\n",
        "    # Returns the input data for this model at a point in time\n",
        "    @property\n",
        "    def input_data(self):\n",
        "        return self._input_data\n",
        "\n",
        "\n",
        "    \n",
        "    # Returns the targets for this model at a point in time\n",
        "    @property\n",
        "    def targets(self):\n",
        "        return self._targets\n",
        "\n",
        "    # Returns the initial state for this model\n",
        "    @property\n",
        "    def initial_state(self):\n",
        "        return self._initial_state\n",
        "\n",
        "    # Returns the defined Cost\n",
        "    @property\n",
        "    def cost(self):\n",
        "        return self._cost\n",
        "\n",
        "    # Returns the final state for this model\n",
        "    @property\n",
        "    def final_state(self):\n",
        "        return self._final_state\n",
        "    \n",
        "    # Returns the final output words for this model\n",
        "    @property\n",
        "    def final_output_words(self):\n",
        "        return self._output_words\n",
        "    \n",
        "    # Returns the current learning rate for this model\n",
        "    @property\n",
        "    def lr(self):\n",
        "        return self._lr\n",
        "\n",
        "    # Returns the training operation defined for this model\n",
        "    @property\n",
        "    def train_op(self):\n",
        "        return self._train_op"
      ],
      "execution_count": 0,
      "outputs": []
    },
    {
      "metadata": {
        "button": false,
        "deletable": true,
        "new_sheet": false,
        "run_control": {
          "read_only": false
        },
        "id": "5_Ggy0Ku20pR",
        "colab_type": "text"
      },
      "cell_type": "markdown",
      "source": [
        "With that, the actual structure of our Recurrent Neural Network with Long Short-Term Memory is finished. What remains for us to do is to actually create the methods to run through time -- that is, the <code>run_epoch</code> method to be run at each epoch and a <code>main</code> script which ties all of this together.\n",
        "\n",
        "What our <code>run_epoch</code> method should do is take our input data and feed it to the relevant operations. This will return at the very least the current result for the cost function."
      ]
    },
    {
      "metadata": {
        "button": false,
        "deletable": true,
        "new_sheet": false,
        "run_control": {
          "read_only": false
        },
        "id": "blbjOeYl20pS",
        "colab_type": "code",
        "colab": {}
      },
      "cell_type": "code",
      "source": [
        "##########################################################################################################################\n",
        "# run_one_epoch takes as parameters the current session, the model instance, the data to be fed, and the operation to be run #\n",
        "##########################################################################################################################\n",
        "def run_one_epoch(session, m, data, eval_op, verbose=False):\n",
        "\n",
        "    #Define the epoch size based on the length of the data, batch size and the number of steps\n",
        "    epoch_size = ((len(data) // m.batch_size) - 1) // m.num_steps\n",
        "    start_time = time.time()\n",
        "    costs = 0.0\n",
        "    iters = 0\n",
        "\n",
        "    state = session.run(m.initial_state)\n",
        "    \n",
        "    #For each step and data point\n",
        "    for step, (x, y) in enumerate(reader.ptb_iterator(data, m.batch_size, m.num_steps)):\n",
        "        \n",
        "        #Evaluate and return cost, state by running cost, final_state and the function passed as parameter\n",
        "        cost, state, out_words, _ = session.run([m.cost, m.final_state, m.final_output_words, eval_op],\n",
        "                                     {m.input_data: x,\n",
        "                                      m.targets: y,\n",
        "                                      m.initial_state: state})\n",
        "\n",
        "        #Add returned cost to costs (which keeps track of the total costs for this epoch)\n",
        "        costs += cost\n",
        "        \n",
        "        #Add number of steps to iteration counter\n",
        "        iters += m.num_steps\n",
        "\n",
        "        if verbose and step % (epoch_size // 10) == 10:\n",
        "            print(\"Itr %d of %d, perplexity: %.3f speed: %.0f wps\" % (step , epoch_size, np.exp(costs / iters), iters * m.batch_size / (time.time() - start_time)))\n",
        "\n",
        "    # Returns the Perplexity rating for us to keep track of how the model is evolving\n",
        "    return np.exp(costs / iters)\n"
      ],
      "execution_count": 0,
      "outputs": []
    },
    {
      "metadata": {
        "button": false,
        "deletable": true,
        "new_sheet": false,
        "run_control": {
          "read_only": false
        },
        "id": "9BoZLYR220pU",
        "colab_type": "text"
      },
      "cell_type": "markdown",
      "source": [
        "Now, we create the <code>main</code> method to tie everything together. The code here reads the data from the directory, using the <code>reader</code> helper module, and then trains and evaluates the model on both a testing and a validating subset of data."
      ]
    },
    {
      "metadata": {
        "button": false,
        "deletable": true,
        "new_sheet": false,
        "run_control": {
          "read_only": false
        },
        "id": "0c3ADlY320pV",
        "colab_type": "code",
        "colab": {}
      },
      "cell_type": "code",
      "source": [
        "# Reads the data and separates it into training data, validation data and testing data\n",
        "raw_data = reader.ptb_raw_data(data_dir)\n",
        "train_data, valid_data, test_data, _, _ = raw_data"
      ],
      "execution_count": 0,
      "outputs": []
    },
    {
      "metadata": {
        "button": false,
        "deletable": true,
        "new_sheet": false,
        "run_control": {
          "read_only": false
        },
        "id": "qhOSWCjP20pZ",
        "colab_type": "code",
        "colab": {
          "base_uri": "https://localhost:8080/",
          "height": 3349
        },
        "outputId": "18358ed1-d2ec-4c44-896e-4b73d5151ed1"
      },
      "cell_type": "code",
      "source": [
        "# Initializes the Execution Graph and the Session\n",
        "with tf.Graph().as_default(), tf.Session() as session:\n",
        "    initializer = tf.random_uniform_initializer(-init_scale, init_scale)\n",
        "    \n",
        "    # Instantiates the model for training\n",
        "    # tf.variable_scope add a prefix to the variables created with tf.get_variable\n",
        "    with tf.variable_scope(\"model\", reuse=None, initializer=initializer):\n",
        "        m = PTBModel(\"is_training\")\n",
        "        \n",
        "    # Reuses the trained parameters for the validation and testing models\n",
        "    # They are different instances but use the same variables for weights and biases, they just don't change when data is input\n",
        "    with tf.variable_scope(\"model\", reuse=True, initializer=initializer):\n",
        "        mvalid = PTBModel(\"is_validating\")\n",
        "        mtest = PTBModel(\"is_testing\")\n",
        "\n",
        "    #Initialize all variables\n",
        "    tf.global_variables_initializer().run()\n",
        "\n",
        "    for i in range(max_epoch):\n",
        "        # Define the decay for this epoch\n",
        "        lr_decay = decay ** max(i - max_epoch_decay_lr, 0.0)\n",
        "        \n",
        "        # Set the decayed learning rate as the learning rate for this epoch\n",
        "        m.assign_lr(session, learning_rate * lr_decay)\n",
        "\n",
        "        print(\"Epoch %d : Learning rate: %.3f\" % (i + 1, session.run(m.lr)))\n",
        "        \n",
        "        # Run the loop for this epoch in the training model\n",
        "        train_perplexity = run_one_epoch(session, m, train_data, m.train_op, verbose=True)\n",
        "        print(\"Epoch %d : Train Perplexity: %.3f\" % (i + 1, train_perplexity))\n",
        "        \n",
        "        # Run the loop for this epoch in the validation model\n",
        "        valid_perplexity = run_one_epoch(session, mvalid, valid_data, tf.no_op())\n",
        "        print(\"Epoch %d : Valid Perplexity: %.3f\" % (i + 1, valid_perplexity))\n",
        "    \n",
        "    # Run the loop in the testing model to see how effective was our training\n",
        "    test_perplexity = run_one_epoch(session, mtest, test_data, tf.no_op())\n",
        "    \n",
        "    print(\"Test Perplexity: %.3f\" % test_perplexity)"
      ],
      "execution_count": 50,
      "outputs": [
        {
          "output_type": "stream",
          "text": [
            "Epoch 1 : Learning rate: 1.000\n",
            "Itr 10 of 774, perplexity: 4304.770 speed: 16862 wps\n",
            "Itr 87 of 774, perplexity: 1276.800 speed: 21696 wps\n",
            "Itr 164 of 774, perplexity: 981.584 speed: 22151 wps\n",
            "Itr 241 of 774, perplexity: 818.983 speed: 22397 wps\n",
            "Itr 318 of 774, perplexity: 725.599 speed: 22521 wps\n",
            "Itr 395 of 774, perplexity: 650.328 speed: 22591 wps\n",
            "Itr 472 of 774, perplexity: 588.963 speed: 22633 wps\n",
            "Itr 549 of 774, perplexity: 534.339 speed: 22669 wps\n",
            "Itr 626 of 774, perplexity: 490.632 speed: 22707 wps\n",
            "Itr 703 of 774, perplexity: 455.873 speed: 22727 wps\n",
            "Epoch 1 : Train Perplexity: 431.201\n",
            "Epoch 1 : Valid Perplexity: 261.306\n",
            "Epoch 2 : Learning rate: 1.000\n",
            "Itr 10 of 774, perplexity: 276.012 speed: 20672 wps\n",
            "Itr 87 of 774, perplexity: 238.325 speed: 22551 wps\n",
            "Itr 164 of 774, perplexity: 227.928 speed: 22689 wps\n",
            "Itr 241 of 774, perplexity: 218.570 speed: 22758 wps\n",
            "Itr 318 of 774, perplexity: 215.792 speed: 22774 wps\n",
            "Itr 395 of 774, perplexity: 210.262 speed: 22763 wps\n",
            "Itr 472 of 774, perplexity: 205.810 speed: 22700 wps\n",
            "Itr 549 of 774, perplexity: 199.031 speed: 22675 wps\n",
            "Itr 626 of 774, perplexity: 193.477 speed: 22626 wps\n",
            "Itr 703 of 774, perplexity: 189.316 speed: 22595 wps\n",
            "Epoch 2 : Train Perplexity: 186.540\n",
            "Epoch 2 : Valid Perplexity: 178.798\n",
            "Epoch 3 : Learning rate: 1.000\n",
            "Itr 10 of 774, perplexity: 188.819 speed: 20449 wps\n",
            "Itr 87 of 774, perplexity: 160.262 speed: 22311 wps\n",
            "Itr 164 of 774, perplexity: 156.009 speed: 22444 wps\n",
            "Itr 241 of 774, perplexity: 151.356 speed: 22500 wps\n",
            "Itr 318 of 774, perplexity: 151.282 speed: 22528 wps\n",
            "Itr 395 of 774, perplexity: 148.732 speed: 22531 wps\n",
            "Itr 472 of 774, perplexity: 147.099 speed: 22529 wps\n",
            "Itr 549 of 774, perplexity: 143.376 speed: 22514 wps\n",
            "Itr 626 of 774, perplexity: 140.586 speed: 22528 wps\n",
            "Itr 703 of 774, perplexity: 138.776 speed: 22536 wps\n",
            "Epoch 3 : Train Perplexity: 137.709\n",
            "Epoch 3 : Valid Perplexity: 151.151\n",
            "Epoch 4 : Learning rate: 1.000\n",
            "Itr 10 of 774, perplexity: 150.220 speed: 20134 wps\n",
            "Itr 87 of 774, perplexity: 127.392 speed: 22294 wps\n",
            "Itr 164 of 774, perplexity: 125.143 speed: 22429 wps\n",
            "Itr 241 of 774, perplexity: 121.977 speed: 22405 wps\n",
            "Itr 318 of 774, perplexity: 122.584 speed: 22439 wps\n",
            "Itr 395 of 774, perplexity: 120.750 speed: 22452 wps\n",
            "Itr 472 of 774, perplexity: 119.884 speed: 22464 wps\n",
            "Itr 549 of 774, perplexity: 117.143 speed: 22447 wps\n",
            "Itr 626 of 774, perplexity: 115.255 speed: 22445 wps\n",
            "Itr 703 of 774, perplexity: 114.214 speed: 22432 wps\n",
            "Epoch 4 : Train Perplexity: 113.701\n",
            "Epoch 4 : Valid Perplexity: 141.105\n",
            "Epoch 5 : Learning rate: 1.000\n",
            "Itr 10 of 774, perplexity: 128.076 speed: 19926 wps\n",
            "Itr 87 of 774, perplexity: 109.022 speed: 22065 wps\n",
            "Itr 164 of 774, perplexity: 107.351 speed: 22268 wps\n",
            "Itr 241 of 774, perplexity: 104.798 speed: 22305 wps\n",
            "Itr 318 of 774, perplexity: 105.672 speed: 22337 wps\n",
            "Itr 395 of 774, perplexity: 104.245 speed: 22359 wps\n",
            "Itr 472 of 774, perplexity: 103.698 speed: 22375 wps\n",
            "Itr 549 of 774, perplexity: 101.446 speed: 22403 wps\n",
            "Itr 626 of 774, perplexity: 100.000 speed: 22426 wps\n",
            "Itr 703 of 774, perplexity: 99.270 speed: 22430 wps\n",
            "Epoch 5 : Train Perplexity: 98.996\n",
            "Epoch 5 : Valid Perplexity: 136.624\n",
            "Epoch 6 : Learning rate: 0.500\n",
            "Itr 10 of 774, perplexity: 109.992 speed: 20270 wps\n",
            "Itr 87 of 774, perplexity: 93.308 speed: 22060 wps\n",
            "Itr 164 of 774, perplexity: 91.216 speed: 22260 wps\n",
            "Itr 241 of 774, perplexity: 88.480 speed: 22316 wps\n",
            "Itr 318 of 774, perplexity: 88.744 speed: 22380 wps\n",
            "Itr 395 of 774, perplexity: 86.945 speed: 22432 wps\n",
            "Itr 472 of 774, perplexity: 86.088 speed: 22445 wps\n",
            "Itr 549 of 774, perplexity: 83.702 speed: 22462 wps\n",
            "Itr 626 of 774, perplexity: 82.076 speed: 22450 wps\n",
            "Itr 703 of 774, perplexity: 81.056 speed: 22462 wps\n",
            "Epoch 6 : Train Perplexity: 80.474\n",
            "Epoch 6 : Valid Perplexity: 127.032\n",
            "Epoch 7 : Learning rate: 0.250\n",
            "Itr 10 of 774, perplexity: 96.193 speed: 19994 wps\n",
            "Itr 87 of 774, perplexity: 82.489 speed: 22106 wps\n",
            "Itr 164 of 774, perplexity: 80.760 speed: 22187 wps\n",
            "Itr 241 of 774, perplexity: 78.303 speed: 22209 wps\n",
            "Itr 318 of 774, perplexity: 78.537 speed: 22222 wps\n",
            "Itr 395 of 774, perplexity: 76.827 speed: 22325 wps\n",
            "Itr 472 of 774, perplexity: 75.993 speed: 22396 wps\n",
            "Itr 549 of 774, perplexity: 73.763 speed: 22390 wps\n",
            "Itr 626 of 774, perplexity: 72.198 speed: 22392 wps\n",
            "Itr 703 of 774, perplexity: 71.148 speed: 22457 wps\n",
            "Epoch 7 : Train Perplexity: 70.482\n",
            "Epoch 7 : Valid Perplexity: 125.256\n",
            "Epoch 8 : Learning rate: 0.125\n",
            "Itr 10 of 774, perplexity: 88.726 speed: 20378 wps\n",
            "Itr 87 of 774, perplexity: 76.376 speed: 22190 wps\n",
            "Itr 164 of 774, perplexity: 74.865 speed: 22351 wps\n",
            "Itr 241 of 774, perplexity: 72.627 speed: 22403 wps\n",
            "Itr 318 of 774, perplexity: 72.858 speed: 22415 wps\n",
            "Itr 395 of 774, perplexity: 71.226 speed: 22401 wps\n",
            "Itr 472 of 774, perplexity: 70.428 speed: 22419 wps\n",
            "Itr 549 of 774, perplexity: 68.312 speed: 22410 wps\n",
            "Itr 626 of 774, perplexity: 66.800 speed: 22433 wps\n",
            "Itr 703 of 774, perplexity: 65.763 speed: 22448 wps\n",
            "Epoch 8 : Train Perplexity: 65.083\n",
            "Epoch 8 : Valid Perplexity: 124.627\n",
            "Epoch 9 : Learning rate: 0.062\n",
            "Itr 10 of 774, perplexity: 84.627 speed: 20096 wps\n",
            "Itr 87 of 774, perplexity: 72.929 speed: 22165 wps\n",
            "Itr 164 of 774, perplexity: 71.580 speed: 22334 wps\n",
            "Itr 241 of 774, perplexity: 69.485 speed: 22404 wps\n",
            "Itr 318 of 774, perplexity: 69.730 speed: 22392 wps\n",
            "Itr 395 of 774, perplexity: 68.139 speed: 22379 wps\n",
            "Itr 472 of 774, perplexity: 67.363 speed: 22357 wps\n",
            "Itr 549 of 774, perplexity: 65.328 speed: 22369 wps\n",
            "Itr 626 of 774, perplexity: 63.853 speed: 22355 wps\n",
            "Itr 703 of 774, perplexity: 62.831 speed: 22346 wps\n",
            "Epoch 9 : Train Perplexity: 62.162\n",
            "Epoch 9 : Valid Perplexity: 124.151\n",
            "Epoch 10 : Learning rate: 0.031\n",
            "Itr 10 of 774, perplexity: 82.476 speed: 20078 wps\n",
            "Itr 87 of 774, perplexity: 71.099 speed: 22036 wps\n",
            "Itr 164 of 774, perplexity: 69.792 speed: 22278 wps\n",
            "Itr 241 of 774, perplexity: 67.773 speed: 22345 wps\n",
            "Itr 318 of 774, perplexity: 68.024 speed: 22386 wps\n",
            "Itr 395 of 774, perplexity: 66.457 speed: 22431 wps\n",
            "Itr 472 of 774, perplexity: 65.691 speed: 22434 wps\n",
            "Itr 549 of 774, perplexity: 63.705 speed: 22429 wps\n",
            "Itr 626 of 774, perplexity: 62.255 speed: 22438 wps\n",
            "Itr 703 of 774, perplexity: 61.243 speed: 22461 wps\n",
            "Epoch 10 : Train Perplexity: 60.583\n",
            "Epoch 10 : Valid Perplexity: 123.584\n",
            "Epoch 11 : Learning rate: 0.016\n",
            "Itr 10 of 774, perplexity: 81.224 speed: 20190 wps\n",
            "Itr 87 of 774, perplexity: 70.086 speed: 22269 wps\n",
            "Itr 164 of 774, perplexity: 68.803 speed: 22356 wps\n",
            "Itr 241 of 774, perplexity: 66.821 speed: 22388 wps\n",
            "Itr 318 of 774, perplexity: 67.077 speed: 22392 wps\n",
            "Itr 395 of 774, perplexity: 65.532 speed: 22424 wps\n",
            "Itr 472 of 774, perplexity: 64.773 speed: 22444 wps\n",
            "Itr 549 of 774, perplexity: 62.810 speed: 22455 wps\n",
            "Itr 626 of 774, perplexity: 61.378 speed: 22456 wps\n",
            "Itr 703 of 774, perplexity: 60.374 speed: 22438 wps\n",
            "Epoch 11 : Train Perplexity: 59.719\n",
            "Epoch 11 : Valid Perplexity: 123.115\n",
            "Epoch 12 : Learning rate: 0.008\n",
            "Itr 10 of 774, perplexity: 80.476 speed: 20245 wps\n",
            "Itr 87 of 774, perplexity: 69.471 speed: 22089 wps\n",
            "Itr 164 of 774, perplexity: 68.228 speed: 22175 wps\n",
            "Itr 241 of 774, perplexity: 66.272 speed: 22222 wps\n",
            "Itr 318 of 774, perplexity: 66.534 speed: 22226 wps\n",
            "Itr 395 of 774, perplexity: 65.011 speed: 22278 wps\n",
            "Itr 472 of 774, perplexity: 64.257 speed: 22315 wps\n",
            "Itr 549 of 774, perplexity: 62.308 speed: 22353 wps\n",
            "Itr 626 of 774, perplexity: 60.887 speed: 22380 wps\n",
            "Itr 703 of 774, perplexity: 59.889 speed: 22393 wps\n",
            "Epoch 12 : Train Perplexity: 59.239\n",
            "Epoch 12 : Valid Perplexity: 122.791\n",
            "Epoch 13 : Learning rate: 0.004\n",
            "Itr 10 of 774, perplexity: 80.056 speed: 20451 wps\n",
            "Itr 87 of 774, perplexity: 69.113 speed: 22097 wps\n",
            "Itr 164 of 774, perplexity: 67.898 speed: 22283 wps\n",
            "Itr 241 of 774, perplexity: 65.964 speed: 22343 wps\n",
            "Itr 318 of 774, perplexity: 66.231 speed: 22368 wps\n",
            "Itr 395 of 774, perplexity: 64.723 speed: 22374 wps\n",
            "Itr 472 of 774, perplexity: 63.976 speed: 22382 wps\n",
            "Itr 549 of 774, perplexity: 62.034 speed: 22401 wps\n",
            "Itr 626 of 774, perplexity: 60.618 speed: 22412 wps\n",
            "Itr 703 of 774, perplexity: 59.623 speed: 22420 wps\n",
            "Epoch 13 : Train Perplexity: 58.977\n",
            "Epoch 13 : Valid Perplexity: 122.555\n",
            "Epoch 14 : Learning rate: 0.002\n",
            "Itr 10 of 774, perplexity: 79.843 speed: 20273 wps\n",
            "Itr 87 of 774, perplexity: 68.923 speed: 22113 wps\n",
            "Itr 164 of 774, perplexity: 67.718 speed: 22225 wps\n",
            "Itr 241 of 774, perplexity: 65.797 speed: 22273 wps\n",
            "Itr 318 of 774, perplexity: 66.069 speed: 22288 wps\n",
            "Itr 395 of 774, perplexity: 64.567 speed: 22334 wps\n",
            "Itr 472 of 774, perplexity: 63.826 speed: 22388 wps\n",
            "Itr 549 of 774, perplexity: 61.888 speed: 22444 wps\n",
            "Itr 626 of 774, perplexity: 60.475 speed: 22443 wps\n",
            "Itr 703 of 774, perplexity: 59.481 speed: 22435 wps\n",
            "Epoch 14 : Train Perplexity: 58.838\n",
            "Epoch 14 : Valid Perplexity: 122.386\n",
            "Epoch 15 : Learning rate: 0.001\n",
            "Itr 10 of 774, perplexity: 79.729 speed: 20743 wps\n",
            "Itr 87 of 774, perplexity: 68.818 speed: 22702 wps\n",
            "Itr 164 of 774, perplexity: 67.620 speed: 22810 wps\n",
            "Itr 241 of 774, perplexity: 65.705 speed: 22732 wps\n",
            "Itr 318 of 774, perplexity: 65.981 speed: 22670 wps\n",
            "Itr 395 of 774, perplexity: 64.483 speed: 22633 wps\n",
            "Itr 472 of 774, perplexity: 63.745 speed: 22590 wps\n",
            "Itr 549 of 774, perplexity: 61.810 speed: 22585 wps\n",
            "Itr 626 of 774, perplexity: 60.399 speed: 22567 wps\n",
            "Itr 703 of 774, perplexity: 59.406 speed: 22567 wps\n",
            "Epoch 15 : Train Perplexity: 58.764\n",
            "Epoch 15 : Valid Perplexity: 122.285\n",
            "Test Perplexity: 118.080\n"
          ],
          "name": "stdout"
        }
      ]
    },
    {
      "metadata": {
        "button": false,
        "deletable": true,
        "new_sheet": false,
        "run_control": {
          "read_only": false
        },
        "id": "lGfVubWN20pc",
        "colab_type": "text"
      },
      "cell_type": "markdown",
      "source": [
        "As you can see, the model's perplexity rating drops very quickly after a few iterations. As was elaborated before, <b>lower Perplexity means that the model is more certain about its prediction</b>. As such, we can be sure that this model is performing well!"
      ]
    },
    {
      "metadata": {
        "button": false,
        "deletable": true,
        "new_sheet": false,
        "run_control": {
          "read_only": false
        },
        "id": "1LSTJTJD20ph",
        "colab_type": "text"
      },
      "cell_type": "markdown",
      "source": [
        "-------"
      ]
    },
    {
      "metadata": {
        "button": false,
        "deletable": true,
        "new_sheet": false,
        "run_control": {
          "read_only": false
        },
        "id": "UPvjUp0p20ph",
        "colab_type": "text"
      },
      "cell_type": "markdown",
      "source": [
        "This is the end of the <b>Applying Recurrent Neural Networks to Text Processing</b> notebook. Hopefully you now have a better understanding of Recurrent Neural Networks and how to implement one utilizing TensorFlow. Thank you for reading this notebook, and good luck on your studies."
      ]
    },
    {
      "metadata": {
        "button": false,
        "deletable": true,
        "new_sheet": false,
        "run_control": {
          "read_only": false
        },
        "id": "1nVbmQWO20pi",
        "colab_type": "text"
      },
      "cell_type": "markdown",
      "source": [
        "## Want to learn more?\n",
        "\n",
        "Running deep learning programs usually needs a high performance platform. __PowerAI__ speeds up deep learning and AI. Built on IBM’s Power Systems, __PowerAI__ is a scalable software platform that accelerates deep learning and AI with blazing performance for individual users or enterprises. The __PowerAI__ platform supports popular machine learning libraries and dependencies including TensorFlow, Caffe, Torch, and Theano. You can use [PowerAI on IMB Cloud](https://cocl.us/ML0120EN_PAI).\n",
        "\n",
        "Also, you can use __Watson Studio__ to run these notebooks faster with bigger datasets.__Watson Studio__ is IBM’s leading cloud solution for data scientists, built by data scientists. With Jupyter notebooks, RStudio, Apache Spark and popular libraries pre-packaged in the cloud, __Watson Studio__ enables data scientists to collaborate on their projects without having to install anything. Join the fast-growing community of __Watson Studio__ users today with a free account at [Watson Studio](https://cocl.us/ML0120EN_DSX).This is the end of this lesson. Thank you for reading this notebook, and good luck on your studies."
      ]
    },
    {
      "metadata": {
        "button": false,
        "deletable": true,
        "new_sheet": false,
        "run_control": {
          "read_only": false
        },
        "id": "ll2K-Lqu20pk",
        "colab_type": "text"
      },
      "cell_type": "markdown",
      "source": [
        "### Thanks for completing this lesson!\n",
        "\n",
        "Notebook created by <a href=\"https://br.linkedin.com/in/walter-gomes-de-amorim-junior-624726121\">Walter Gomes de Amorim Junior</a>, <a href = \"https://linkedin.com/in/saeedaghabozorgi\"> Saeed Aghabozorgi </a></h4>"
      ]
    },
    {
      "metadata": {
        "button": false,
        "deletable": true,
        "new_sheet": false,
        "run_control": {
          "read_only": false
        },
        "id": "R9E2aDsN20pl",
        "colab_type": "text"
      },
      "cell_type": "markdown",
      "source": [
        "<hr>\n",
        "\n",
        "Copyright &copy; 2018 [Cognitive Class](https://cocl.us/DX0108EN_CC). This notebook and its source code are released under the terms of the [MIT License](https://bigdatauniversity.com/mit-license/)."
      ]
    }
  ]
}