{
  "nbformat": 4,
  "nbformat_minor": 0,
  "metadata": {
    "colab": {
      "name": "5.1-Review-Autoencoders.ipynb",
      "version": "0.3.2",
      "provenance": [],
      "include_colab_link": true
    },
    "kernelspec": {
      "name": "python3",
      "display_name": "Python 3"
    },
    "accelerator": "GPU"
  },
  "cells": [
    {
      "cell_type": "markdown",
      "metadata": {
        "id": "view-in-github",
        "colab_type": "text"
      },
      "source": [
        "<a href=\"https://colab.research.google.com/github/JATC1024/Deep-Learning-with-TensorFlow/blob/master/5_1_Review_Autoencoders.ipynb\" target=\"_parent\"><img src=\"https://colab.research.google.com/assets/colab-badge.svg\" alt=\"Open In Colab\"/></a>"
      ]
    },
    {
      "metadata": {
        "id": "sgKbxpxeiNyD",
        "colab_type": "text"
      },
      "cell_type": "markdown",
      "source": [
        "<a href=\"https://www.bigdatauniversity.com\"><img src=\"https://ibm.box.com/shared/static/qo20b88v1hbjztubt06609ovs85q8fau.png\" width=\"400px\" align=\"center\"></a>\n",
        "\n",
        "<h1 align=\"center\"><font size=\"5\">AUTOENCODERS</font></h1>"
      ]
    },
    {
      "metadata": {
        "id": "V6rham1liNyG",
        "colab_type": "text"
      },
      "cell_type": "markdown",
      "source": [
        "<div class=\"alert alert-block alert-info\" style=\"margin-top: 20px\">\n",
        "Welcome to this notebook about autoencoders.\n",
        "<font size=\"3\"><strong>In this notebook you will find an explanation of what is an autoencoder, how it works, and see an implementation of an autoencoder in TensorFlow.</strong></font>\n",
        "<br>\n",
        "<br>\n",
        "<h2>Table of Contents</h2>\n",
        "<ol>\n",
        " <li><a href=\"#ref1\">Introduction</a></li>\n",
        " <li><a href=\"#ref2\">Feature Extraction and Dimensionality Reduction</a></li>\n",
        " <li><a href=\"#ref3\">Autoencoder Structure</a></li>\n",
        " <li><a href=\"#ref4\">Performance</a></li>\n",
        " <li><a href=\"#ref5\">Training: Loss Function</a></li>\n",
        " <li><a href=\"#ref6\">Code</a></li>\n",
        "</ol>\n",
        "</div>\n",
        "<br>\n",
        "By the end of this notebook, you should be able to create simple autoencoders and how to apply them to problems that involves unsupervised learning.\n",
        "<br>\n",
        "<p></p>\n",
        "<hr>"
      ]
    },
    {
      "metadata": {
        "id": "t9Fa2qDdiNyI",
        "colab_type": "text"
      },
      "cell_type": "markdown",
      "source": [
        "<a id=\"ref1\"></a>\n",
        "<h2>Introduction</h2>\n",
        "An autoencoder, also known as autoassociator or Diabolo networks, is an artificial neural network employed to recreate the given input.\n",
        "It takes a set of <b>unlabeled</b> inputs, encodes them and then tries to extract the most valuable information from them.\n",
        "They are used for feature extraction, learning generative models of data, dimensionality reduction and can be used for compression. \n",
        "\n",
        "A 2006 paper named <b><a href=\"https://www.cs.toronto.edu/~hinton/science.pdf\">Reducing the Dimensionality of Data with Neural Networks</a>, done by G. E. Hinton and R. R. Salakhutdinov</b>, showed better results than years of refining other types of network, and was a breakthrough in the field of Neural Networks, a field that was \"stagnant\" for 10 years.\n",
        "\n",
        "Now, autoencoders, based on Restricted Boltzmann Machines, are employed in some of the largest deep learning applications. They are the building blocks of Deep Belief Networks (DBN).\n",
        "\n",
        "<center><img src=\"https://ibm.box.com/shared/static/xlkv9v7xzxhjww681dq3h1pydxcm4ktp.png\" style=\"width: 350px;\"></center>"
      ]
    },
    {
      "metadata": {
        "id": "qMFWwIV8iNyK",
        "colab_type": "text"
      },
      "cell_type": "markdown",
      "source": [
        "<hr>"
      ]
    },
    {
      "metadata": {
        "id": "Cwf4mLIjiNyL",
        "colab_type": "text"
      },
      "cell_type": "markdown",
      "source": [
        "<a id=\"ref2\"></a>\n",
        "<h2>Feature Extraction and Dimensionality Reduction</h2>\n",
        "\n",
        "An example given by Nikhil Buduma in KdNuggets (<a href=\"http://www.kdnuggets.com/2015/03/deep-learning-curse-dimensionality-autoencoders.html\">link</a>) which gave an excellent explanation of the utility of this type of Neural Network.\n",
        "\n",
        "Say that you want to extract what emotion the person in a photography is feeling. Using the following 256x256 pixel grayscale picture as an example:\n",
        "\n",
        "<img src=\"https://ibm.box.com/shared/static/r5knpow4bk2farlvxia71e9jp2f2u126.png\">\n",
        "\n",
        "But when use this picture we start running into a bottleneck! Because this image being 256x256 pixels in size correspond with an input vector of 65536 dimensions! If we used an image produced with conventional cellphone cameras, that generates images of 4000 x 3000 pixels, we would have 12 million dimensions to analyze.\n",
        "\n",
        "\n",
        "This bottleneck is further problematized as the difficulty of a machine learning problem is increased as more dimensions are involved. According to a 1982 study by C.J. Stone (<a href=\"http://www-personal.umich.edu/~jizhu/jizhu/wuke/Stone-AoS82.pdf\">link</a>), the time to fit a model, is optimal if:\n",
        "\n",
        "<br><br>\n",
        "<div class=\"alert alert-block alert-info\" style=\"margin-top: 20px\">\n",
        "<h3><strong>$$m^{-p/(2p+d)}$$</strong></h3>\n",
        "<br>\n",
        "Where:\n",
        "<br>\n",
        "m: Number of data points\n",
        "<br>\n",
        "d: Dimensionality of the data\n",
        "<br>\n",
        "p: Parameter that depends on the model\n",
        "</div>\n",
        "\n",
        "As you can see, it increases exponentially!\n",
        "Returning to our example, we don't need to use all of the 65,536 dimensions to classify an emotion. A human identify emotions according to some specific facial expression, some <b>key features</b>, like the shape of the mouth and eyebrows.\n",
        "\n",
        "<center><img src=\"https://ibm.box.com/shared/static/m8urvuqujkt2vt1ru1fnslzh24pv7hn4.png\" height=\"256\" width=\"256\"></center>"
      ]
    },
    {
      "metadata": {
        "id": "hEZBR0bZiNyN",
        "colab_type": "text"
      },
      "cell_type": "markdown",
      "source": [
        "<hr>"
      ]
    },
    {
      "metadata": {
        "id": "g76kwSrdiNyP",
        "colab_type": "text"
      },
      "cell_type": "markdown",
      "source": [
        "<a id=\"ref3\"></a>\n",
        "<h2>Autoencoder Structure</h2>\n",
        "\n",
        "<img src=\"https://ibm.box.com/shared/static/no7omt2jhqvv7uuls7ihnzikyl9ysnfp.png\" style=\"width: 400px;\">\n",
        "\n",
        "An autoencoder can be divided in two parts, the <b>encoder</b> and the <b>decoder</b>.\n",
        "\n",
        "The encoder needs to compress the representation of an input. In this case we are going to reduce the dimension the face of our actor, from 2000 dimensions to only 30 dimensions, by running the data through layers of our encoder.\n",
        "\n",
        "The decoder works like encoder network in reverse. It works to recreate the input, as closely as possible. This plays an important role during training, because it forces the autoencoder to select the most important features in the compressed representation.\n"
      ]
    },
    {
      "metadata": {
        "id": "6sEzRj01iNyR",
        "colab_type": "text"
      },
      "cell_type": "markdown",
      "source": [
        "<hr>"
      ]
    },
    {
      "metadata": {
        "id": "TWqkaEQkiNyS",
        "colab_type": "text"
      },
      "cell_type": "markdown",
      "source": [
        "<a id=\"ref4\"></a>\n",
        "<h2>Performance</h2>\n",
        "\n",
        "After the training has been done, you can use the encoded data as a reliable dimensionally-reduced data, applying it to any problems where dimensionality reduction seems appropriate.\n",
        "\n",
        "<img src=\"https://ibm.box.com/shared/static/yt3xyon4g2jyw1w9qup1mvx7cgh28l64.png\">\n",
        "\n",
        "This image was extracted from the G. E. Hinton and R. R. Salakhutdinovcomparing's <a href=\"https://www.cs.toronto.edu/~hinton/science.pdf\">paper</a>, on the two-dimensional reduction for 500 digits of the MNIST, with PCA on the left and autoencoder on the right. We can see that the autoencoder provided us with a better separation of data."
      ]
    },
    {
      "metadata": {
        "id": "ivUXYmzciNyT",
        "colab_type": "text"
      },
      "cell_type": "markdown",
      "source": [
        "<hr>"
      ]
    },
    {
      "metadata": {
        "id": "_opfALrNiNyW",
        "colab_type": "text"
      },
      "cell_type": "markdown",
      "source": [
        "<a id=\"ref5\"></a>\n",
        "<h2>Training: Loss function</h2>\n",
        "\n",
        "An autoencoder uses the Loss function to properly train the network. The Loss function will calculate the differences between our output and the expected results. After that, we can minimize this error with gradient descent. There are more than one type of Loss function, it depends on the type of data."
      ]
    },
    {
      "metadata": {
        "id": "PsQBQjO9iNyX",
        "colab_type": "text"
      },
      "cell_type": "markdown",
      "source": [
        "<h3>Binary Values:</h3>\n",
        "$$l(f(x)) = - \\sum_{k} (x_k log(\\hat{x}_k) + (1 - x_k) \\log (1 - \\hat{x}_k) \\ )$$"
      ]
    },
    {
      "metadata": {
        "id": "vYQTrvfLiNyZ",
        "colab_type": "text"
      },
      "cell_type": "markdown",
      "source": [
        "For binary values, we can use an equation based on the sum of Bernoulli's cross-entropy. \n",
        "\n",
        "$x_k$ is one of our inputs and $\\hat{x}_k$ is the respective output.\n",
        "\n",
        "We use this function so that if $x_k$ equals to one, we want to push $\\hat{x}_k$ as close as possible to one. The same if $x_k$ equals to zero.\n",
        "\n",
        "If the value is one, we just need to calculate the first part of the formula, that is, $- x_k log(\\hat{x}_k)$. Which, turns out to just calculate $- log(\\hat{x}_k)$.\n",
        "\n",
        "And if the value is zero, we need to calculate just the second part, $(1 - x_k) \\log (1 - \\hat{x}_k) \\ )$ - which turns out to be $log (1 - \\hat{x}_k) $.\n",
        "\n"
      ]
    },
    {
      "metadata": {
        "id": "c0BpwaKziNyb",
        "colab_type": "text"
      },
      "cell_type": "markdown",
      "source": [
        "<h3>Real values:</h3>\n",
        "$$l(f(x)) = - \\frac{1}{2}\\sum_{k} (\\hat{x}_k- x_k \\ )^2$$"
      ]
    },
    {
      "metadata": {
        "id": "NeS3T5RriNyd",
        "colab_type": "text"
      },
      "cell_type": "markdown",
      "source": [
        "As the above function would behave badly with inputs that are not 0 or 1, we can use the sum of squared differences for our Loss function. If you use this loss function, it's necessary that you use a linear activation function for the output layer.\n",
        "\n",
        "As it was with the above example, $x_k$ is one of our inputs and $\\hat{x}_k$ is the respective output, and we want to make our output as similar as possible to our input."
      ]
    },
    {
      "metadata": {
        "id": "LUvOB76UiNye",
        "colab_type": "text"
      },
      "cell_type": "markdown",
      "source": [
        "<h3>Loss Gradient:</h3>\n",
        "\n",
        "$$\\nabla_{\\hat{a}(x^{(t)})} \\ l( \\ f(x^{(t)}))  = \\hat{x}^{(t)} - x^{(t)} $$"
      ]
    },
    {
      "metadata": {
        "id": "IC_P7ZXBiNyf",
        "colab_type": "text"
      },
      "cell_type": "markdown",
      "source": [
        "We use the gradient descent to reach the local minimum of our function $l( \\ f(x^{(t)})$, taking steps towards the negative of the gradient of the function in the current point.\n",
        "\n",
        "Our function about the gradient $(\\nabla_{\\hat{a}(x^{(t)})})$ of the loss of $l( \\ f(x^{(t)})$ in the preactivation of the output layer.\n",
        "\n",
        "It's actually a simple formula, it is done by calculating the difference between our output $\\hat{x}^{(t)}$ and our input $x^{(t)}$.\n",
        "\n",
        "Then our network backpropagates our gradient $\\nabla_{\\hat{a}(x^{(t)})} \\ l( \\ f(x^{(t)}))$ through the network using <b>backpropagation</b>."
      ]
    },
    {
      "metadata": {
        "id": "ZxS3vwY4iNyh",
        "colab_type": "text"
      },
      "cell_type": "markdown",
      "source": [
        "<hr>"
      ]
    },
    {
      "metadata": {
        "id": "Ct6De_XKiNyj",
        "colab_type": "text"
      },
      "cell_type": "markdown",
      "source": [
        "<a id=\"ref6\"></a>\n",
        "<h2>Code</h2>\n",
        "\n",
        "For this part, we walk through a lot of Python 2.7.11 code. We are going to use the MNIST dataset for our example.\n",
        "The following code was created by Aymeric Damien. You can find some of his code in <a href=\"https://github.com/aymericdamien\">here</a>. We made some modifications for us to import the datasets to Jupyter Notebooks."
      ]
    },
    {
      "metadata": {
        "id": "J2cN1OyMiNyl",
        "colab_type": "text"
      },
      "cell_type": "markdown",
      "source": [
        "Let's call our imports and make the MNIST data available to use."
      ]
    },
    {
      "metadata": {
        "id": "UtGAUSkOiNym",
        "colab_type": "code",
        "colab": {
          "base_uri": "https://localhost:8080/",
          "height": 530
        },
        "outputId": "ca79ca09-2832-4282-a4a9-6db44acfd9f0"
      },
      "cell_type": "code",
      "source": [
        "#from __future__ import division, print_function, absolute_import\n",
        "\n",
        "import tensorflow as tf\n",
        "import numpy as np\n",
        "import matplotlib.pyplot as plt\n",
        "%matplotlib inline\n",
        "\n",
        "# Import MINST data\n",
        "from tensorflow.examples.tutorials.mnist import input_data\n",
        "mnist = input_data.read_data_sets(\"/tmp/data/\", one_hot=True)"
      ],
      "execution_count": 1,
      "outputs": [
        {
          "output_type": "stream",
          "text": [
            "WARNING:tensorflow:From <ipython-input-1-8801fc82852b>:9: read_data_sets (from tensorflow.contrib.learn.python.learn.datasets.mnist) is deprecated and will be removed in a future version.\n",
            "Instructions for updating:\n",
            "Please use alternatives such as official/mnist/dataset.py from tensorflow/models.\n",
            "WARNING:tensorflow:From /usr/local/lib/python3.6/dist-packages/tensorflow/contrib/learn/python/learn/datasets/mnist.py:260: maybe_download (from tensorflow.contrib.learn.python.learn.datasets.base) is deprecated and will be removed in a future version.\n",
            "Instructions for updating:\n",
            "Please write your own downloading logic.\n",
            "WARNING:tensorflow:From /usr/local/lib/python3.6/dist-packages/tensorflow/contrib/learn/python/learn/datasets/base.py:252: _internal_retry.<locals>.wrap.<locals>.wrapped_fn (from tensorflow.contrib.learn.python.learn.datasets.base) is deprecated and will be removed in a future version.\n",
            "Instructions for updating:\n",
            "Please use urllib or similar directly.\n",
            "Successfully downloaded train-images-idx3-ubyte.gz 9912422 bytes.\n",
            "WARNING:tensorflow:From /usr/local/lib/python3.6/dist-packages/tensorflow/contrib/learn/python/learn/datasets/mnist.py:262: extract_images (from tensorflow.contrib.learn.python.learn.datasets.mnist) is deprecated and will be removed in a future version.\n",
            "Instructions for updating:\n",
            "Please use tf.data to implement this functionality.\n",
            "Extracting /tmp/data/train-images-idx3-ubyte.gz\n",
            "Successfully downloaded train-labels-idx1-ubyte.gz 28881 bytes.\n",
            "WARNING:tensorflow:From /usr/local/lib/python3.6/dist-packages/tensorflow/contrib/learn/python/learn/datasets/mnist.py:267: extract_labels (from tensorflow.contrib.learn.python.learn.datasets.mnist) is deprecated and will be removed in a future version.\n",
            "Instructions for updating:\n",
            "Please use tf.data to implement this functionality.\n",
            "Extracting /tmp/data/train-labels-idx1-ubyte.gz\n",
            "WARNING:tensorflow:From /usr/local/lib/python3.6/dist-packages/tensorflow/contrib/learn/python/learn/datasets/mnist.py:110: dense_to_one_hot (from tensorflow.contrib.learn.python.learn.datasets.mnist) is deprecated and will be removed in a future version.\n",
            "Instructions for updating:\n",
            "Please use tf.one_hot on tensors.\n",
            "Successfully downloaded t10k-images-idx3-ubyte.gz 1648877 bytes.\n",
            "Extracting /tmp/data/t10k-images-idx3-ubyte.gz\n",
            "Successfully downloaded t10k-labels-idx1-ubyte.gz 4542 bytes.\n",
            "Extracting /tmp/data/t10k-labels-idx1-ubyte.gz\n",
            "WARNING:tensorflow:From /usr/local/lib/python3.6/dist-packages/tensorflow/contrib/learn/python/learn/datasets/mnist.py:290: DataSet.__init__ (from tensorflow.contrib.learn.python.learn.datasets.mnist) is deprecated and will be removed in a future version.\n",
            "Instructions for updating:\n",
            "Please use alternatives such as official/mnist/dataset.py from tensorflow/models.\n"
          ],
          "name": "stdout"
        }
      ]
    },
    {
      "metadata": {
        "id": "_VjBhvKZiNyt",
        "colab_type": "text"
      },
      "cell_type": "markdown",
      "source": [
        "Now, let's give the parameters that are going to be used by our NN."
      ]
    },
    {
      "metadata": {
        "id": "L8Zm5E34iNyv",
        "colab_type": "code",
        "colab": {
          "base_uri": "https://localhost:8080/",
          "height": 88
        },
        "outputId": "2c992da3-954f-4fd2-d12b-4e1a8f5b61d8"
      },
      "cell_type": "code",
      "source": [
        "learning_rate = 0.01\n",
        "training_epochs = 20\n",
        "batch_size = 256\n",
        "display_step = 1\n",
        "examples_to_show = 10\n",
        "\n",
        "# Network Parameters\n",
        "n_hidden_1 = 256 # 1st layer num features\n",
        "n_hidden_2 = 128 # 2nd layer num features\n",
        "n_input = 784 # MNIST data input (img shape: 28*28)\n",
        "\n",
        "# tf Graph input (only pictures)\n",
        "X = tf.placeholder(\"float\", [None, n_input])\n",
        "\n",
        "weights = {\n",
        "    'encoder_h1': tf.Variable(tf.random_normal([n_input, n_hidden_1])),\n",
        "    'encoder_h2': tf.Variable(tf.random_normal([n_hidden_1, n_hidden_2])),\n",
        "    'decoder_h1': tf.Variable(tf.random_normal([n_hidden_2, n_hidden_1])),\n",
        "    'decoder_h2': tf.Variable(tf.random_normal([n_hidden_1, n_input])),\n",
        "}\n",
        "biases = {\n",
        "    'encoder_b1': tf.Variable(tf.random_normal([n_hidden_1])),\n",
        "    'encoder_b2': tf.Variable(tf.random_normal([n_hidden_2])),\n",
        "    'decoder_b1': tf.Variable(tf.random_normal([n_hidden_1])),\n",
        "    'decoder_b2': tf.Variable(tf.random_normal([n_input])),\n",
        "}"
      ],
      "execution_count": 2,
      "outputs": [
        {
          "output_type": "stream",
          "text": [
            "WARNING:tensorflow:From /usr/local/lib/python3.6/dist-packages/tensorflow/python/framework/op_def_library.py:263: colocate_with (from tensorflow.python.framework.ops) is deprecated and will be removed in a future version.\n",
            "Instructions for updating:\n",
            "Colocations handled automatically by placer.\n"
          ],
          "name": "stdout"
        }
      ]
    },
    {
      "metadata": {
        "id": "RLHuLW1liNy1",
        "colab_type": "text"
      },
      "cell_type": "markdown",
      "source": [
        "Now we need to create our encoder. For this, we are going to use sigmoidal functions. Sigmoidal functions delivers great results with this type of network. This is due to having a good derivative that is well-suited to backpropagation. We can create our encoder using the sigmoidal function like this:"
      ]
    },
    {
      "metadata": {
        "id": "g66aoKMdiNy3",
        "colab_type": "code",
        "colab": {}
      },
      "cell_type": "code",
      "source": [
        "# Building the encoder\n",
        "def encoder(x):\n",
        "    # Encoder first layer with sigmoid activation #1\n",
        "    layer_1 = tf.nn.sigmoid(tf.add(tf.matmul(x, weights['encoder_h1']), biases['encoder_b1']))\n",
        "    # Encoder second layer with sigmoid activation #2\n",
        "    layer_2 = tf.nn.sigmoid(tf.add(tf.matmul(layer_1, weights['encoder_h2']), biases['encoder_b2']))\n",
        "    return layer_2"
      ],
      "execution_count": 0,
      "outputs": []
    },
    {
      "metadata": {
        "id": "Wsk2nRS7iNy8",
        "colab_type": "text"
      },
      "cell_type": "markdown",
      "source": [
        "And the decoder:\n",
        "\n",
        "You can see that the layer_1 in the encoder is the layer_2 in the decoder and vice-versa."
      ]
    },
    {
      "metadata": {
        "id": "LjPXiUG4iNy9",
        "colab_type": "code",
        "colab": {}
      },
      "cell_type": "code",
      "source": [
        "# Building the decoder\n",
        "def decoder(x):\n",
        "    # Decoder first layer with sigmoid activation #1\n",
        "    layer_1 = tf.nn.sigmoid(tf.add(tf.matmul(x, weights['decoder_h1']),biases['decoder_b1']))\n",
        "    # Decoder second layer with sigmoid activation #2\n",
        "    layer_2 = tf.nn.sigmoid(tf.add(tf.matmul(layer_1, weights['decoder_h2']), biases['decoder_b2']))\n",
        "    return layer_2"
      ],
      "execution_count": 0,
      "outputs": []
    },
    {
      "metadata": {
        "id": "bV4gdTtOiNzD",
        "colab_type": "text"
      },
      "cell_type": "markdown",
      "source": [
        "Let's construct our model.\n",
        "In the variable <code>cost</code> we have the loss function and in the <code>optimizer</code> variable we have our gradient used for backpropagation."
      ]
    },
    {
      "metadata": {
        "id": "NlNVOqsXiNzE",
        "colab_type": "code",
        "colab": {}
      },
      "cell_type": "code",
      "source": [
        "# Construct model\n",
        "encoder_op = encoder(X)\n",
        "decoder_op = decoder(encoder_op)\n",
        "\n",
        "# Reconstructed Images\n",
        "y_pred = decoder_op\n",
        "# Targets (Labels) are the input data.\n",
        "y_true = X\n",
        "\n",
        "# Define loss and optimizer, minimize the squared error\n",
        "cost = tf.reduce_mean(tf.pow(y_true - y_pred, 2))\n",
        "optimizer = tf.train.RMSPropOptimizer(learning_rate).minimize(cost)\n",
        "\n",
        "# Initializing the variables\n",
        "init = tf.global_variables_initializer()"
      ],
      "execution_count": 0,
      "outputs": []
    },
    {
      "metadata": {
        "id": "86hvhpNmiNzM",
        "colab_type": "text"
      },
      "cell_type": "markdown",
      "source": [
        "For training we will run for 20 epochs."
      ]
    },
    {
      "metadata": {
        "id": "AIquCjC9iNzN",
        "colab_type": "code",
        "colab": {
          "base_uri": "https://localhost:8080/",
          "height": 374
        },
        "outputId": "92b0c382-67ed-40d0-f77f-cca0e2d20255"
      },
      "cell_type": "code",
      "source": [
        "# Launch the graph\n",
        "# Using InteractiveSession (more convenient while using Notebooks)\n",
        "sess = tf.InteractiveSession()\n",
        "sess.run(init)\n",
        "\n",
        "total_batch = int(mnist.train.num_examples / batch_size)\n",
        "# Training cycle\n",
        "for epoch in range(training_epochs):\n",
        "    # Loop over all batches\n",
        "    for i in range(total_batch):\n",
        "        batch_xs, batch_ys = mnist.train.next_batch(batch_size)\n",
        "        # Run optimization op (backprop) and cost op (to get loss value)\n",
        "        _, c = sess.run([optimizer, cost], feed_dict={X: batch_xs})\n",
        "    # Display logs per epoch step\n",
        "    if epoch % display_step == 0:\n",
        "        print(\"Epoch:\", '%04d' % (epoch+1),\n",
        "              \"cost=\", \"{:.9f}\".format(c))\n",
        "\n",
        "print(\"Optimization Finished!\")"
      ],
      "execution_count": 6,
      "outputs": [
        {
          "output_type": "stream",
          "text": [
            "Epoch: 0001 cost= 0.223213598\n",
            "Epoch: 0002 cost= 0.184150383\n",
            "Epoch: 0003 cost= 0.166583449\n",
            "Epoch: 0004 cost= 0.153674752\n",
            "Epoch: 0005 cost= 0.147022367\n",
            "Epoch: 0006 cost= 0.144459516\n",
            "Epoch: 0007 cost= 0.138111234\n",
            "Epoch: 0008 cost= 0.131593734\n",
            "Epoch: 0009 cost= 0.126819491\n",
            "Epoch: 0010 cost= 0.126179114\n",
            "Epoch: 0011 cost= 0.121856570\n",
            "Epoch: 0012 cost= 0.117907926\n",
            "Epoch: 0013 cost= 0.118834823\n",
            "Epoch: 0014 cost= 0.115269177\n",
            "Epoch: 0015 cost= 0.115377292\n",
            "Epoch: 0016 cost= 0.113034435\n",
            "Epoch: 0017 cost= 0.116241671\n",
            "Epoch: 0018 cost= 0.110193387\n",
            "Epoch: 0019 cost= 0.110430248\n",
            "Epoch: 0020 cost= 0.110215098\n",
            "Optimization Finished!\n"
          ],
          "name": "stdout"
        }
      ]
    },
    {
      "metadata": {
        "id": "pR-7N-9wiNzS",
        "colab_type": "text"
      },
      "cell_type": "markdown",
      "source": [
        "Now, let's apply encoder and decoder for our tests."
      ]
    },
    {
      "metadata": {
        "id": "W6_75weHiNzU",
        "colab_type": "code",
        "colab": {}
      },
      "cell_type": "code",
      "source": [
        "# Applying encode and decode over test set\n",
        "encode_decode = sess.run(\n",
        "    y_pred, feed_dict={X: mnist.test.images[:examples_to_show]})"
      ],
      "execution_count": 0,
      "outputs": []
    },
    {
      "metadata": {
        "id": "wblUdksiiNzb",
        "colab_type": "text"
      },
      "cell_type": "markdown",
      "source": [
        "Let's simply visualize our graphs!"
      ]
    },
    {
      "metadata": {
        "id": "dzDJc3C1iNze",
        "colab_type": "code",
        "colab": {
          "base_uri": "https://localhost:8080/",
          "height": 158
        },
        "outputId": "fc79d9c6-1aec-4a43-aa88-31ca133dc451"
      },
      "cell_type": "code",
      "source": [
        "# Compare original images with their reconstructions\n",
        "f, a = plt.subplots(2, 10, figsize=(10, 2))\n",
        "for i in range(examples_to_show):\n",
        "    a[0][i].imshow(np.reshape(mnist.test.images[i], (28, 28)))\n",
        "    a[1][i].imshow(np.reshape(encode_decode[i], (28, 28)))"
      ],
      "execution_count": 8,
      "outputs": [
        {
          "output_type": "display_data",
          "data": {
            "image/png": "[encoded data removed]",
            "text/plain": [
              "<Figure size 720x144 with 20 Axes>"
            ]
          },
          "metadata": {
            "tags": []
          }
        }
      ]
    },
    {
      "metadata": {
        "id": "IHxpYXvriNzj",
        "colab_type": "text"
      },
      "cell_type": "markdown",
      "source": [
        "As you can see, the reconstructions were successful. It can be seen that some noise were added to the image."
      ]
    },
    {
      "metadata": {
        "id": "xkoTZ_3hiNzk",
        "colab_type": "text"
      },
      "cell_type": "markdown",
      "source": [
        "<hr>"
      ]
    },
    {
      "metadata": {
        "id": "Eg88oqv0iNzp",
        "colab_type": "text"
      },
      "cell_type": "markdown",
      "source": [
        "## Want to learn more?\n",
        "\n",
        "Running deep learning programs usually needs a high performance platform. __PowerAI__ speeds up deep learning and AI. Built on IBM’s Power Systems, __PowerAI__ is a scalable software platform that accelerates deep learning and AI with blazing performance for individual users or enterprises. The __PowerAI__ platform supports popular machine learning libraries and dependencies including TensorFlow, Caffe, Torch, and Theano. You can use [PowerAI on IMB Cloud](https://cocl.us/ML0120EN_PAI).\n",
        "\n",
        "Also, you can use __Watson Studio__ to run these notebooks faster with bigger datasets.__Watson Studio__ is IBM’s leading cloud solution for data scientists, built by data scientists. With Jupyter notebooks, RStudio, Apache Spark and popular libraries pre-packaged in the cloud, __Watson Studio__ enables data scientists to collaborate on their projects without having to install anything. Join the fast-growing community of __Watson Studio__ users today with a free account at [Watson Studio](https://cocl.us/ML0120EN_DSX).This is the end of this lesson. Thank you for reading this notebook, and good luck on your studies."
      ]
    },
    {
      "metadata": {
        "id": "NUnAO3QYiNzv",
        "colab_type": "text"
      },
      "cell_type": "markdown",
      "source": [
        "### Thanks for completing this lesson!"
      ]
    },
    {
      "metadata": {
        "id": "yReoI2p_iNzx",
        "colab_type": "text"
      },
      "cell_type": "markdown",
      "source": [
        "Created by <a href=\"https://www.linkedin.com/in/franciscomagioli\">Francisco Magioli</a>, <a href=\"https://ca.linkedin.com/in/erich-natsubori-sato\">Erich Natsubori Sato</a>, <a href=\"https://ca.linkedin.com/in/saeedaghabozorgi\">Saeed Aghabozorgi</a>"
      ]
    },
    {
      "metadata": {
        "id": "UepqcYiLiNzy",
        "colab_type": "text"
      },
      "cell_type": "markdown",
      "source": [
        "### References:\n",
        "- https://en.wikipedia.org/wiki/Autoencoder\n",
        "- http://ufldl.stanford.edu/tutorial/unsupervised/Autoencoders/\n",
        "- http://www.slideshare.net/billlangjun/simple-introduction-to-autoencoder\n",
        "- http://www.slideshare.net/danieljohnlewis/piotr-mirowski-review-autoencoders-deep-learning-ciuuk14\n",
        "- https://cs.stanford.edu/~quocle/tutorial2.pdf\n",
        "- https://gist.github.com/hussius/1534135a419bb0b957b9\n",
        "- http://www.deeplearningbook.org/contents/autoencoders.html\n",
        "- http://www.kdnuggets.com/2015/03/deep-learning-curse-dimensionality-autoencoders.html/\n",
        "- https://www.youtube.com/watch?v=xTU79Zs4XKY\n",
        "- http://www-personal.umich.edu/~jizhu/jizhu/wuke/Stone-AoS82.pdf"
      ]
    },
    {
      "metadata": {
        "id": "WxlmiSpaiNz3",
        "colab_type": "text"
      },
      "cell_type": "markdown",
      "source": [
        "<hr>\n",
        "\n",
        "Copyright &copy; 2018 [Cognitive Class](https://cocl.us/DX0108EN_CC). This notebook and its source code are released under the terms of the [MIT License](https://bigdatauniversity.com/mit-license/)."
      ]
    }
  ]
}